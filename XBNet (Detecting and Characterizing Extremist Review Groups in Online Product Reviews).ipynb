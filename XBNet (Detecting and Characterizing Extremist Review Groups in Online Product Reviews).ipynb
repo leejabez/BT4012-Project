{
 "cells": [
  {
   "cell_type": "code",
   "execution_count": 2,
   "metadata": {},
   "outputs": [],
   "source": [
    "import torch\n",
    "import numpy as np\n",
    "import pandas as pd\n",
    "from functools import reduce\n",
    "\n",
    "from sklearn.preprocessing import LabelEncoder\n",
    "from sklearn.model_selection import train_test_split\n",
    "from XBNet.training_utils import training,predict\n",
    "from XBNet.models import XBNETClassifier\n",
    "from XBNet.run import run_XBNET\n",
    "\n",
    "from vaderSentiment.vaderSentiment import SentimentIntensityAnalyzer"
   ]
  },
  {
   "cell_type": "markdown",
   "metadata": {},
   "source": [
    "# Data Preprocessing"
   ]
  },
  {
   "cell_type": "code",
   "execution_count": 3,
   "metadata": {},
   "outputs": [],
   "source": [
    "data = pd.read_csv('Final_Labels.csv')"
   ]
  },
  {
   "cell_type": "code",
   "execution_count": 7,
   "metadata": {},
   "outputs": [
    {
     "name": "stdout",
     "output_type": "stream",
     "text": [
      "(923, 8)\n",
      "[0 1]\n"
     ]
    }
   ],
   "source": [
    "x_data = data[data.columns[:-1]]\n",
    "print(x_data.shape)\n",
    "y_data = data[data.columns[-1]]\n",
    "le = LabelEncoder()\n",
    "y_data = np.array(le.fit_transform(y_data))\n",
    "print(le.classes_)"
   ]
  },
  {
   "cell_type": "code",
   "execution_count": 8,
   "metadata": {},
   "outputs": [],
   "source": [
    "X_train,X_test,y_train,y_test = train_test_split(x_data.to_numpy(),y_data,test_size = 0.2,random_state = 0)\n"
   ]
  },
  {
   "cell_type": "code",
   "execution_count": 30,
   "metadata": {},
   "outputs": [
    {
     "name": "stdout",
     "output_type": "stream",
     "text": [
      "Enter dimensions of linear layers: \n",
      "Enter input dimensions of layer 1: 20\n",
      "Enter output dimensions of layer 1: 20\n",
      "Set bias as True or False: True\n",
      "Enter input dimensions of layer 2: 20\n",
      "Enter output dimensions of layer 2: 20\n",
      "Set bias as True or False: True\n",
      "Enter your last layer \n",
      "1. Sigmoid \n",
      "2. Softmax \n",
      "3. None \n",
      "3\n"
     ]
    },
    {
     "name": "stderr",
     "output_type": "stream",
     "text": [
      "/Users/jabezlee/opt/anaconda3/lib/python3.7/site-packages/xgboost/sklearn.py:1146: UserWarning: The use of label encoder in XGBClassifier is deprecated and will be removed in a future release. To remove this warning, do the following: 1) Pass option use_label_encoder=False when constructing XGBClassifier object; and 2) Encode your labels (y) as integers starting with 0, i.e. 0, 1, 2, ..., [num_class - 1].\n",
      "  warnings.warn(label_encoder_deprecation_msg, UserWarning)\n"
     ]
    }
   ],
   "source": [
    "model = XBNETClassifier(X_train,y_train,2)\n",
    "criterion = torch.nn.CrossEntropyLoss()\n",
    "optimizer = torch.optim.Adam(model.parameters(), lr=0.01)\n"
   ]
  },
  {
   "cell_type": "code",
   "execution_count": 31,
   "metadata": {
    "scrolled": true
   },
   "outputs": [
    {
     "name": "stderr",
     "output_type": "stream",
     "text": [
      "Percentage training completed:   0%|          | 1/300 [00:04<21:13,  4.26s/it]"
     ]
    },
    {
     "name": "stdout",
     "output_type": "stream",
     "text": [
      "Training Loss after epoch 1 is 1.4846292470950477 and Accuracy is 63.27913279132791\n",
      "Validation Loss after epoch 1 is 0.5549435019493103 and Accuracy is 62.7027027027027\n"
     ]
    },
    {
     "name": "stderr",
     "output_type": "stream",
     "text": [
      "\r",
      "Percentage training completed:   1%|          | 2/300 [00:08<21:44,  4.38s/it]"
     ]
    },
    {
     "name": "stdout",
     "output_type": "stream",
     "text": [
      "Training Loss after epoch 2 is 0.28342753384883207 and Accuracy is 89.56639566395664\n",
      "Validation Loss after epoch 2 is 0.20146481692790985 and Accuracy is 96.21621621621621\n"
     ]
    },
    {
     "name": "stderr",
     "output_type": "stream",
     "text": [
      "\r",
      "Percentage training completed:   1%|          | 3/300 [00:12<21:25,  4.33s/it]"
     ]
    },
    {
     "name": "stdout",
     "output_type": "stream",
     "text": [
      "Training Loss after epoch 3 is 0.1995450968388468 and Accuracy is 95.52845528455285\n",
      "Validation Loss after epoch 3 is 0.18143600225448608 and Accuracy is 91.89189189189189\n"
     ]
    },
    {
     "name": "stderr",
     "output_type": "stream",
     "text": [
      "\r",
      "Percentage training completed:   1%|▏         | 4/300 [00:17<20:55,  4.24s/it]"
     ]
    },
    {
     "name": "stdout",
     "output_type": "stream",
     "text": [
      "Training Loss after epoch 4 is 0.18407680528859297 and Accuracy is 95.39295392953929\n",
      "Validation Loss after epoch 4 is 0.15845328569412231 and Accuracy is 94.05405405405405\n"
     ]
    },
    {
     "name": "stderr",
     "output_type": "stream",
     "text": [
      "\r",
      "Percentage training completed:   2%|▏         | 5/300 [00:21<20:43,  4.22s/it]"
     ]
    },
    {
     "name": "stdout",
     "output_type": "stream",
     "text": [
      "Training Loss after epoch 5 is 0.16964511688759862 and Accuracy is 95.6639566395664\n",
      "Validation Loss after epoch 5 is 0.1442548632621765 and Accuracy is 95.13513513513513\n"
     ]
    },
    {
     "name": "stderr",
     "output_type": "stream",
     "text": [
      "\r",
      "Percentage training completed:   2%|▏         | 6/300 [00:25<20:36,  4.21s/it]"
     ]
    },
    {
     "name": "stdout",
     "output_type": "stream",
     "text": [
      "Training Loss after epoch 6 is 0.16092072448858138 and Accuracy is 96.07046070460704\n",
      "Validation Loss after epoch 6 is 0.1373695284128189 and Accuracy is 95.13513513513513\n"
     ]
    },
    {
     "name": "stderr",
     "output_type": "stream",
     "text": [
      "\r",
      "Percentage training completed:   2%|▏         | 7/300 [00:29<20:30,  4.20s/it]"
     ]
    },
    {
     "name": "stdout",
     "output_type": "stream",
     "text": [
      "Training Loss after epoch 7 is 0.1569819704297212 and Accuracy is 95.9349593495935\n",
      "Validation Loss after epoch 7 is 0.1325857937335968 and Accuracy is 95.13513513513513\n"
     ]
    },
    {
     "name": "stderr",
     "output_type": "stream",
     "text": [
      "\r",
      "Percentage training completed:   3%|▎         | 8/300 [00:33<20:26,  4.20s/it]"
     ]
    },
    {
     "name": "stdout",
     "output_type": "stream",
     "text": [
      "Training Loss after epoch 8 is 0.15439133686231798 and Accuracy is 95.9349593495935\n",
      "Validation Loss after epoch 8 is 0.12880006432533264 and Accuracy is 95.13513513513513\n"
     ]
    },
    {
     "name": "stderr",
     "output_type": "stream",
     "text": [
      "\r",
      "Percentage training completed:   3%|▎         | 9/300 [00:38<20:18,  4.19s/it]"
     ]
    },
    {
     "name": "stdout",
     "output_type": "stream",
     "text": [
      "Training Loss after epoch 9 is 0.15244672310655005 and Accuracy is 96.2059620596206\n",
      "Validation Loss after epoch 9 is 0.12598080933094025 and Accuracy is 95.13513513513513\n"
     ]
    },
    {
     "name": "stderr",
     "output_type": "stream",
     "text": [
      "\r",
      "Percentage training completed:   3%|▎         | 10/300 [00:42<20:15,  4.19s/it]"
     ]
    },
    {
     "name": "stdout",
     "output_type": "stream",
     "text": [
      "Training Loss after epoch 10 is 0.15112403144667041 and Accuracy is 96.2059620596206\n",
      "Validation Loss after epoch 10 is 0.12390834093093872 and Accuracy is 95.13513513513513\n"
     ]
    },
    {
     "name": "stderr",
     "output_type": "stream",
     "text": [
      "\r",
      "Percentage training completed:   4%|▎         | 11/300 [00:46<20:08,  4.18s/it]"
     ]
    },
    {
     "name": "stdout",
     "output_type": "stream",
     "text": [
      "Training Loss after epoch 11 is 0.15026921331051804 and Accuracy is 96.2059620596206\n",
      "Validation Loss after epoch 11 is 0.12236668914556503 and Accuracy is 95.13513513513513\n"
     ]
    },
    {
     "name": "stderr",
     "output_type": "stream",
     "text": [
      "\r",
      "Percentage training completed:   4%|▍         | 12/300 [00:50<20:03,  4.18s/it]"
     ]
    },
    {
     "name": "stdout",
     "output_type": "stream",
     "text": [
      "Training Loss after epoch 12 is 0.1497336450027736 and Accuracy is 96.2059620596206\n",
      "Validation Loss after epoch 12 is 0.12122134119272232 and Accuracy is 95.13513513513513\n"
     ]
    },
    {
     "name": "stderr",
     "output_type": "stream",
     "text": [
      "\r",
      "Percentage training completed:   4%|▍         | 13/300 [00:54<20:00,  4.18s/it]"
     ]
    },
    {
     "name": "stdout",
     "output_type": "stream",
     "text": [
      "Training Loss after epoch 13 is 0.14942347503498846 and Accuracy is 96.2059620596206\n",
      "Validation Loss after epoch 13 is 0.1203792467713356 and Accuracy is 95.13513513513513\n"
     ]
    },
    {
     "name": "stderr",
     "output_type": "stream",
     "text": [
      "\r",
      "Percentage training completed:   5%|▍         | 14/300 [00:58<19:57,  4.19s/it]"
     ]
    },
    {
     "name": "stdout",
     "output_type": "stream",
     "text": [
      "Training Loss after epoch 14 is 0.14927460624054825 and Accuracy is 96.34146341463415\n",
      "Validation Loss after epoch 14 is 0.11976950615644455 and Accuracy is 95.13513513513513\n"
     ]
    },
    {
     "name": "stderr",
     "output_type": "stream",
     "text": [
      "\r",
      "Percentage training completed:   5%|▌         | 15/300 [01:03<19:58,  4.20s/it]"
     ]
    },
    {
     "name": "stdout",
     "output_type": "stream",
     "text": [
      "Training Loss after epoch 15 is 0.14923803398642121 and Accuracy is 96.34146341463415\n",
      "Validation Loss after epoch 15 is 0.11933699250221252 and Accuracy is 95.13513513513513\n"
     ]
    },
    {
     "name": "stderr",
     "output_type": "stream",
     "text": [
      "\r",
      "Percentage training completed:   5%|▌         | 16/300 [01:07<20:05,  4.25s/it]"
     ]
    },
    {
     "name": "stdout",
     "output_type": "stream",
     "text": [
      "Training Loss after epoch 16 is 0.14927715140114137 and Accuracy is 96.34146341463415\n",
      "Validation Loss after epoch 16 is 0.11903949826955795 and Accuracy is 95.13513513513513\n"
     ]
    },
    {
     "name": "stderr",
     "output_type": "stream",
     "text": [
      "\r",
      "Percentage training completed:   6%|▌         | 17/300 [01:12<20:24,  4.33s/it]"
     ]
    },
    {
     "name": "stdout",
     "output_type": "stream",
     "text": [
      "Training Loss after epoch 17 is 0.14936429230745793 and Accuracy is 96.34146341463415\n",
      "Validation Loss after epoch 17 is 0.11884358525276184 and Accuracy is 95.13513513513513\n"
     ]
    },
    {
     "name": "stderr",
     "output_type": "stream",
     "text": [
      "\r",
      "Percentage training completed:   6%|▌         | 18/300 [01:16<20:44,  4.41s/it]"
     ]
    },
    {
     "name": "stdout",
     "output_type": "stream",
     "text": [
      "Training Loss after epoch 18 is 0.1494788317916876 and Accuracy is 96.34146341463415\n",
      "Validation Loss after epoch 18 is 0.11872178316116333 and Accuracy is 95.13513513513513\n"
     ]
    },
    {
     "name": "stderr",
     "output_type": "stream",
     "text": [
      "\r",
      "Percentage training completed:   6%|▋         | 19/300 [01:21<20:55,  4.47s/it]"
     ]
    },
    {
     "name": "stdout",
     "output_type": "stream",
     "text": [
      "Training Loss after epoch 19 is 0.1496047251841143 and Accuracy is 96.2059620596206\n",
      "Validation Loss after epoch 19 is 0.11865291744470596 and Accuracy is 95.13513513513513\n"
     ]
    },
    {
     "name": "stderr",
     "output_type": "stream",
     "text": [
      "\r",
      "Percentage training completed:   7%|▋         | 20/300 [01:25<20:38,  4.42s/it]"
     ]
    },
    {
     "name": "stdout",
     "output_type": "stream",
     "text": [
      "Training Loss after epoch 20 is 0.14973014158391607 and Accuracy is 96.2059620596206\n",
      "Validation Loss after epoch 20 is 0.11861953884363174 and Accuracy is 95.13513513513513\n"
     ]
    },
    {
     "name": "stderr",
     "output_type": "stream",
     "text": [
      "\r",
      "Percentage training completed:   7%|▋         | 21/300 [01:29<20:18,  4.37s/it]"
     ]
    },
    {
     "name": "stdout",
     "output_type": "stream",
     "text": [
      "Training Loss after epoch 21 is 0.14984600362282663 and Accuracy is 96.2059620596206\n",
      "Validation Loss after epoch 21 is 0.11860749870538712 and Accuracy is 95.13513513513513\n"
     ]
    },
    {
     "name": "stderr",
     "output_type": "stream",
     "text": [
      "\r",
      "Percentage training completed:   7%|▋         | 22/300 [01:33<19:56,  4.30s/it]"
     ]
    },
    {
     "name": "stdout",
     "output_type": "stream",
     "text": [
      "Training Loss after epoch 22 is 0.14994566507262638 and Accuracy is 96.2059620596206\n",
      "Validation Loss after epoch 22 is 0.11860617995262146 and Accuracy is 95.13513513513513\n"
     ]
    },
    {
     "name": "stderr",
     "output_type": "stream",
     "text": [
      "\r",
      "Percentage training completed:   8%|▊         | 23/300 [01:37<19:28,  4.22s/it]"
     ]
    },
    {
     "name": "stdout",
     "output_type": "stream",
     "text": [
      "Training Loss after epoch 23 is 0.15002464650459993 and Accuracy is 96.2059620596206\n",
      "Validation Loss after epoch 23 is 0.1186068132519722 and Accuracy is 95.67567567567568\n"
     ]
    },
    {
     "name": "stderr",
     "output_type": "stream",
     "text": [
      "\r",
      "Percentage training completed:   8%|▊         | 24/300 [01:42<19:10,  4.17s/it]"
     ]
    },
    {
     "name": "stdout",
     "output_type": "stream",
     "text": [
      "Training Loss after epoch 24 is 0.1500794158778831 and Accuracy is 96.2059620596206\n",
      "Validation Loss after epoch 24 is 0.11860314756631851 and Accuracy is 95.67567567567568\n"
     ]
    },
    {
     "name": "stderr",
     "output_type": "stream",
     "text": [
      "\r",
      "Percentage training completed:   8%|▊         | 25/300 [01:46<18:56,  4.13s/it]"
     ]
    },
    {
     "name": "stdout",
     "output_type": "stream",
     "text": [
      "Training Loss after epoch 25 is 0.15010848284357317 and Accuracy is 96.07046070460704\n",
      "Validation Loss after epoch 25 is 0.11859101802110672 and Accuracy is 95.67567567567568\n"
     ]
    },
    {
     "name": "stderr",
     "output_type": "stream",
     "text": [
      "\r",
      "Percentage training completed:   9%|▊         | 26/300 [01:50<18:43,  4.10s/it]"
     ]
    },
    {
     "name": "stdout",
     "output_type": "stream",
     "text": [
      "Training Loss after epoch 26 is 0.15011086656376924 and Accuracy is 96.07046070460704\n",
      "Validation Loss after epoch 26 is 0.1185670793056488 and Accuracy is 95.67567567567568\n"
     ]
    },
    {
     "name": "stderr",
     "output_type": "stream",
     "text": [
      "\r",
      "Percentage training completed:   9%|▉         | 27/300 [01:54<18:31,  4.07s/it]"
     ]
    },
    {
     "name": "stdout",
     "output_type": "stream",
     "text": [
      "Training Loss after epoch 27 is 0.15008634980746174 and Accuracy is 96.07046070460704\n",
      "Validation Loss after epoch 27 is 0.11852914094924927 and Accuracy is 95.67567567567568\n"
     ]
    },
    {
     "name": "stderr",
     "output_type": "stream",
     "text": [
      "\r",
      "Percentage training completed:   9%|▉         | 28/300 [01:58<18:18,  4.04s/it]"
     ]
    },
    {
     "name": "stdout",
     "output_type": "stream",
     "text": [
      "Training Loss after epoch 28 is 0.15003543122032661 and Accuracy is 96.07046070460704\n",
      "Validation Loss after epoch 28 is 0.11847623437643051 and Accuracy is 95.67567567567568\n"
     ]
    },
    {
     "name": "stderr",
     "output_type": "stream",
     "text": [
      "\r",
      "Percentage training completed:  10%|▉         | 29/300 [02:02<18:09,  4.02s/it]"
     ]
    },
    {
     "name": "stdout",
     "output_type": "stream",
     "text": [
      "Training Loss after epoch 29 is 0.14995878647687277 and Accuracy is 96.07046070460704\n",
      "Validation Loss after epoch 29 is 0.11840742826461792 and Accuracy is 95.67567567567568\n"
     ]
    },
    {
     "name": "stderr",
     "output_type": "stream",
     "text": [
      "\r",
      "Percentage training completed:  10%|█         | 30/300 [02:06<19:02,  4.23s/it]"
     ]
    },
    {
     "name": "stdout",
     "output_type": "stream",
     "text": [
      "Training Loss after epoch 30 is 0.14985764942429114 and Accuracy is 96.07046070460704\n",
      "Validation Loss after epoch 30 is 0.11832302063703537 and Accuracy is 95.67567567567568\n"
     ]
    },
    {
     "name": "stderr",
     "output_type": "stream",
     "text": [
      "\r",
      "Percentage training completed:  10%|█         | 31/300 [02:12<20:33,  4.59s/it]"
     ]
    },
    {
     "name": "stdout",
     "output_type": "stream",
     "text": [
      "Training Loss after epoch 31 is 0.1497334904657066 and Accuracy is 96.2059620596206\n",
      "Validation Loss after epoch 31 is 0.11822319775819778 and Accuracy is 95.67567567567568\n"
     ]
    },
    {
     "name": "stderr",
     "output_type": "stream",
     "text": [
      "\r",
      "Percentage training completed:  11%|█         | 32/300 [02:16<19:41,  4.41s/it]"
     ]
    },
    {
     "name": "stdout",
     "output_type": "stream",
     "text": [
      "Training Loss after epoch 32 is 0.14958757014623814 and Accuracy is 96.2059620596206\n",
      "Validation Loss after epoch 32 is 0.11810790747404099 and Accuracy is 95.67567567567568\n"
     ]
    },
    {
     "name": "stderr",
     "output_type": "stream",
     "text": [
      "\r",
      "Percentage training completed:  11%|█         | 33/300 [02:20<19:23,  4.36s/it]"
     ]
    },
    {
     "name": "stdout",
     "output_type": "stream",
     "text": [
      "Training Loss after epoch 33 is 0.14942127147989956 and Accuracy is 96.2059620596206\n",
      "Validation Loss after epoch 33 is 0.11797844618558884 and Accuracy is 95.67567567567568\n"
     ]
    },
    {
     "name": "stderr",
     "output_type": "stream",
     "text": [
      "\r",
      "Percentage training completed:  11%|█▏        | 34/300 [02:24<18:51,  4.25s/it]"
     ]
    },
    {
     "name": "stdout",
     "output_type": "stream",
     "text": [
      "Training Loss after epoch 34 is 0.1492362785307364 and Accuracy is 96.2059620596206\n",
      "Validation Loss after epoch 34 is 0.11783474683761597 and Accuracy is 95.67567567567568\n"
     ]
    },
    {
     "name": "stderr",
     "output_type": "stream",
     "text": [
      "\r",
      "Percentage training completed:  12%|█▏        | 35/300 [02:28<18:27,  4.18s/it]"
     ]
    },
    {
     "name": "stdout",
     "output_type": "stream",
     "text": [
      "Training Loss after epoch 35 is 0.1490338848282041 and Accuracy is 96.2059620596206\n",
      "Validation Loss after epoch 35 is 0.11767830699682236 and Accuracy is 95.67567567567568\n"
     ]
    },
    {
     "name": "stderr",
     "output_type": "stream",
     "text": [
      "\r",
      "Percentage training completed:  12%|█▏        | 36/300 [02:32<18:06,  4.11s/it]"
     ]
    },
    {
     "name": "stdout",
     "output_type": "stream",
     "text": [
      "Training Loss after epoch 36 is 0.14881556473353896 and Accuracy is 96.2059620596206\n",
      "Validation Loss after epoch 36 is 0.11750943213701248 and Accuracy is 95.67567567567568\n"
     ]
    },
    {
     "name": "stderr",
     "output_type": "stream",
     "text": [
      "\r",
      "Percentage training completed:  12%|█▏        | 37/300 [02:36<17:49,  4.07s/it]"
     ]
    },
    {
     "name": "stdout",
     "output_type": "stream",
     "text": [
      "Training Loss after epoch 37 is 0.14858288356716778 and Accuracy is 96.4769647696477\n",
      "Validation Loss after epoch 37 is 0.11732956767082214 and Accuracy is 95.67567567567568\n"
     ]
    },
    {
     "name": "stderr",
     "output_type": "stream",
     "text": [
      "\r",
      "Percentage training completed:  13%|█▎        | 38/300 [02:40<17:42,  4.05s/it]"
     ]
    },
    {
     "name": "stdout",
     "output_type": "stream",
     "text": [
      "Training Loss after epoch 38 is 0.14833706531977006 and Accuracy is 96.4769647696477\n",
      "Validation Loss after epoch 38 is 0.11713877320289612 and Accuracy is 95.67567567567568\n"
     ]
    },
    {
     "name": "stderr",
     "output_type": "stream",
     "text": [
      "\r",
      "Percentage training completed:  13%|█▎        | 39/300 [02:44<17:34,  4.04s/it]"
     ]
    },
    {
     "name": "stdout",
     "output_type": "stream",
     "text": [
      "Training Loss after epoch 39 is 0.14807902780975724 and Accuracy is 96.4769647696477\n",
      "Validation Loss after epoch 39 is 0.1169385090470314 and Accuracy is 95.67567567567568\n"
     ]
    },
    {
     "name": "stderr",
     "output_type": "stream",
     "text": [
      "\r",
      "Percentage training completed:  13%|█▎        | 40/300 [02:48<17:26,  4.02s/it]"
     ]
    },
    {
     "name": "stdout",
     "output_type": "stream",
     "text": [
      "Training Loss after epoch 40 is 0.14781040411125446 and Accuracy is 96.4769647696477\n",
      "Validation Loss after epoch 40 is 0.11672983318567276 and Accuracy is 95.67567567567568\n"
     ]
    },
    {
     "name": "stderr",
     "output_type": "stream",
     "text": [
      "\r",
      "Percentage training completed:  14%|█▎        | 41/300 [02:52<17:36,  4.08s/it]"
     ]
    },
    {
     "name": "stdout",
     "output_type": "stream",
     "text": [
      "Training Loss after epoch 41 is 0.14753226020056331 and Accuracy is 96.4769647696477\n",
      "Validation Loss after epoch 41 is 0.11651355028152466 and Accuracy is 95.67567567567568\n"
     ]
    },
    {
     "name": "stderr",
     "output_type": "stream",
     "text": [
      "\r",
      "Percentage training completed:  14%|█▍        | 42/300 [02:56<17:44,  4.12s/it]"
     ]
    },
    {
     "name": "stdout",
     "output_type": "stream",
     "text": [
      "Training Loss after epoch 42 is 0.14724575169378795 and Accuracy is 96.4769647696477\n",
      "Validation Loss after epoch 42 is 0.11629030853509903 and Accuracy is 95.67567567567568\n"
     ]
    },
    {
     "name": "stderr",
     "output_type": "stream",
     "text": [
      "\r",
      "Percentage training completed:  14%|█▍        | 43/300 [03:01<17:47,  4.15s/it]"
     ]
    },
    {
     "name": "stdout",
     "output_type": "stream",
     "text": [
      "Training Loss after epoch 43 is 0.14695174060756244 and Accuracy is 96.4769647696477\n",
      "Validation Loss after epoch 43 is 0.1160610094666481 and Accuracy is 95.67567567567568\n"
     ]
    },
    {
     "name": "stderr",
     "output_type": "stream",
     "text": [
      "\r",
      "Percentage training completed:  15%|█▍        | 44/300 [03:05<17:52,  4.19s/it]"
     ]
    },
    {
     "name": "stdout",
     "output_type": "stream",
     "text": [
      "Training Loss after epoch 44 is 0.14665137417608776 and Accuracy is 96.4769647696477\n",
      "Validation Loss after epoch 44 is 0.11582701653242111 and Accuracy is 95.67567567567568\n"
     ]
    },
    {
     "name": "stderr",
     "output_type": "stream",
     "text": [
      "\r",
      "Percentage training completed:  15%|█▌        | 45/300 [03:09<17:59,  4.23s/it]"
     ]
    },
    {
     "name": "stdout",
     "output_type": "stream",
     "text": [
      "Training Loss after epoch 45 is 0.14634544433399319 and Accuracy is 96.4769647696477\n",
      "Validation Loss after epoch 45 is 0.11558865755796432 and Accuracy is 95.67567567567568\n"
     ]
    },
    {
     "name": "stderr",
     "output_type": "stream",
     "text": [
      "\r",
      "Percentage training completed:  15%|█▌        | 46/300 [03:13<18:04,  4.27s/it]"
     ]
    },
    {
     "name": "stdout",
     "output_type": "stream",
     "text": [
      "Training Loss after epoch 46 is 0.14603496373935818 and Accuracy is 96.4769647696477\n",
      "Validation Loss after epoch 46 is 0.11534725874662399 and Accuracy is 95.67567567567568\n"
     ]
    },
    {
     "name": "stderr",
     "output_type": "stream",
     "text": [
      "\r",
      "Percentage training completed:  16%|█▌        | 47/300 [03:18<18:01,  4.28s/it]"
     ]
    },
    {
     "name": "stdout",
     "output_type": "stream",
     "text": [
      "Training Loss after epoch 47 is 0.1457208089219506 and Accuracy is 96.4769647696477\n",
      "Validation Loss after epoch 47 is 0.11510291695594788 and Accuracy is 95.67567567567568\n"
     ]
    },
    {
     "name": "stderr",
     "output_type": "stream",
     "text": [
      "\r",
      "Percentage training completed:  16%|█▌        | 48/300 [03:22<18:13,  4.34s/it]"
     ]
    },
    {
     "name": "stdout",
     "output_type": "stream",
     "text": [
      "Training Loss after epoch 48 is 0.14540342528678232 and Accuracy is 96.4769647696477\n",
      "Validation Loss after epoch 48 is 0.11485686153173447 and Accuracy is 95.67567567567568\n"
     ]
    },
    {
     "name": "stderr",
     "output_type": "stream",
     "text": [
      "\r",
      "Percentage training completed:  16%|█▋        | 49/300 [03:27<18:03,  4.32s/it]"
     ]
    },
    {
     "name": "stdout",
     "output_type": "stream",
     "text": [
      "Training Loss after epoch 49 is 0.14508377426919594 and Accuracy is 96.4769647696477\n",
      "Validation Loss after epoch 49 is 0.1146097406744957 and Accuracy is 95.67567567567568\n"
     ]
    },
    {
     "name": "stderr",
     "output_type": "stream",
     "text": [
      "\r",
      "Percentage training completed:  17%|█▋        | 50/300 [03:31<17:51,  4.29s/it]"
     ]
    },
    {
     "name": "stdout",
     "output_type": "stream",
     "text": [
      "Training Loss after epoch 50 is 0.14476251586645597 and Accuracy is 96.4769647696477\n",
      "Validation Loss after epoch 50 is 0.11436203122138977 and Accuracy is 95.67567567567568\n"
     ]
    },
    {
     "name": "stderr",
     "output_type": "stream",
     "text": [
      "\r",
      "Percentage training completed:  17%|█▋        | 51/300 [03:35<17:50,  4.30s/it]"
     ]
    },
    {
     "name": "stdout",
     "output_type": "stream",
     "text": [
      "Training Loss after epoch 51 is 0.1444401741803413 and Accuracy is 96.61246612466125\n",
      "Validation Loss after epoch 51 is 0.11411439627408981 and Accuracy is 95.67567567567568\n"
     ]
    },
    {
     "name": "stderr",
     "output_type": "stream",
     "text": [
      "\r",
      "Percentage training completed:  17%|█▋        | 52/300 [03:39<17:42,  4.29s/it]"
     ]
    },
    {
     "name": "stdout",
     "output_type": "stream",
     "text": [
      "Training Loss after epoch 52 is 0.14411720897376293 and Accuracy is 96.61246612466125\n",
      "Validation Loss after epoch 52 is 0.11386722326278687 and Accuracy is 95.67567567567568\n"
     ]
    },
    {
     "name": "stderr",
     "output_type": "stream",
     "text": [
      "\r",
      "Percentage training completed:  18%|█▊        | 53/300 [03:44<17:33,  4.27s/it]"
     ]
    },
    {
     "name": "stdout",
     "output_type": "stream",
     "text": [
      "Training Loss after epoch 53 is 0.1437942024009402 and Accuracy is 96.61246612466125\n",
      "Validation Loss after epoch 53 is 0.1136213019490242 and Accuracy is 95.67567567567568\n"
     ]
    },
    {
     "name": "stderr",
     "output_type": "stream",
     "text": [
      "\r",
      "Percentage training completed:  18%|█▊        | 54/300 [03:48<17:18,  4.22s/it]"
     ]
    },
    {
     "name": "stdout",
     "output_type": "stream",
     "text": [
      "Training Loss after epoch 54 is 0.1434716689399854 and Accuracy is 96.61246612466125\n",
      "Validation Loss after epoch 54 is 0.11337699741125107 and Accuracy is 95.67567567567568\n"
     ]
    },
    {
     "name": "stderr",
     "output_type": "stream",
     "text": [
      "\r",
      "Percentage training completed:  18%|█▊        | 55/300 [03:52<16:58,  4.16s/it]"
     ]
    },
    {
     "name": "stdout",
     "output_type": "stream",
     "text": [
      "Training Loss after epoch 55 is 0.1431499906659847 and Accuracy is 96.7479674796748\n",
      "Validation Loss after epoch 55 is 0.11313458532094955 and Accuracy is 95.67567567567568\n"
     ]
    },
    {
     "name": "stderr",
     "output_type": "stream",
     "text": [
      "\r",
      "Percentage training completed:  19%|█▊        | 56/300 [03:56<16:43,  4.11s/it]"
     ]
    },
    {
     "name": "stdout",
     "output_type": "stream",
     "text": [
      "Training Loss after epoch 56 is 0.1428294382057563 and Accuracy is 96.7479674796748\n",
      "Validation Loss after epoch 56 is 0.11289433389902115 and Accuracy is 95.67567567567568\n"
     ]
    },
    {
     "name": "stderr",
     "output_type": "stream",
     "text": [
      "\r",
      "Percentage training completed:  19%|█▉        | 57/300 [04:00<16:32,  4.08s/it]"
     ]
    },
    {
     "name": "stdout",
     "output_type": "stream",
     "text": [
      "Training Loss after epoch 57 is 0.14251038013020909 and Accuracy is 96.7479674796748\n",
      "Validation Loss after epoch 57 is 0.11265689879655838 and Accuracy is 95.67567567567568\n"
     ]
    },
    {
     "name": "stderr",
     "output_type": "stream",
     "text": [
      "\r",
      "Percentage training completed:  19%|█▉        | 58/300 [04:04<16:21,  4.06s/it]"
     ]
    },
    {
     "name": "stdout",
     "output_type": "stream",
     "text": [
      "Training Loss after epoch 58 is 0.1421931805088595 and Accuracy is 96.7479674796748\n",
      "Validation Loss after epoch 58 is 0.1124223992228508 and Accuracy is 95.67567567567568\n"
     ]
    },
    {
     "name": "stderr",
     "output_type": "stream",
     "text": [
      "\r",
      "Percentage training completed:  20%|█▉        | 59/300 [04:08<16:14,  4.04s/it]"
     ]
    },
    {
     "name": "stdout",
     "output_type": "stream",
     "text": [
      "Training Loss after epoch 59 is 0.14187807861399904 and Accuracy is 96.7479674796748\n",
      "Validation Loss after epoch 59 is 0.1121911033987999 and Accuracy is 95.67567567567568\n"
     ]
    },
    {
     "name": "stderr",
     "output_type": "stream",
     "text": [
      "\r",
      "Percentage training completed:  20%|██        | 60/300 [04:12<16:06,  4.03s/it]"
     ]
    },
    {
     "name": "stdout",
     "output_type": "stream",
     "text": [
      "Training Loss after epoch 60 is 0.14156526296083882 and Accuracy is 96.7479674796748\n",
      "Validation Loss after epoch 60 is 0.1119631752371788 and Accuracy is 95.67567567567568\n"
     ]
    },
    {
     "name": "stderr",
     "output_type": "stream",
     "text": [
      "\r",
      "Percentage training completed:  20%|██        | 61/300 [04:16<15:58,  4.01s/it]"
     ]
    },
    {
     "name": "stdout",
     "output_type": "stream",
     "text": [
      "Training Loss after epoch 61 is 0.14125497181273752 and Accuracy is 96.7479674796748\n",
      "Validation Loss after epoch 61 is 0.11173880100250244 and Accuracy is 95.67567567567568\n"
     ]
    },
    {
     "name": "stderr",
     "output_type": "stream",
     "text": [
      "\r",
      "Percentage training completed:  21%|██        | 62/300 [04:20<16:22,  4.13s/it]"
     ]
    },
    {
     "name": "stdout",
     "output_type": "stream",
     "text": [
      "Training Loss after epoch 62 is 0.1409473558887271 and Accuracy is 96.88346883468834\n",
      "Validation Loss after epoch 62 is 0.11151811480522156 and Accuracy is 96.21621621621621\n"
     ]
    },
    {
     "name": "stderr",
     "output_type": "stream",
     "text": [
      "\r",
      "Percentage training completed:  21%|██        | 63/300 [04:24<16:14,  4.11s/it]"
     ]
    },
    {
     "name": "stdout",
     "output_type": "stream",
     "text": [
      "Training Loss after epoch 63 is 0.140642448483599 and Accuracy is 96.88346883468834\n",
      "Validation Loss after epoch 63 is 0.11130139231681824 and Accuracy is 96.21621621621621\n"
     ]
    },
    {
     "name": "stderr",
     "output_type": "stream",
     "text": [
      "\r",
      "Percentage training completed:  21%|██▏       | 64/300 [04:28<16:03,  4.08s/it]"
     ]
    },
    {
     "name": "stdout",
     "output_type": "stream",
     "text": [
      "Training Loss after epoch 64 is 0.14034049375908353 and Accuracy is 96.7479674796748\n",
      "Validation Loss after epoch 64 is 0.11108853667974472 and Accuracy is 96.21621621621621\n"
     ]
    },
    {
     "name": "stderr",
     "output_type": "stream",
     "text": [
      "\r",
      "Percentage training completed:  22%|██▏       | 65/300 [04:32<15:49,  4.04s/it]"
     ]
    },
    {
     "name": "stdout",
     "output_type": "stream",
     "text": [
      "Training Loss after epoch 65 is 0.1400415694030054 and Accuracy is 96.7479674796748\n",
      "Validation Loss after epoch 65 is 0.11087999492883682 and Accuracy is 96.21621621621621\n"
     ]
    },
    {
     "name": "stderr",
     "output_type": "stream",
     "text": [
      "\r",
      "Percentage training completed:  22%|██▏       | 66/300 [04:36<15:43,  4.03s/it]"
     ]
    },
    {
     "name": "stdout",
     "output_type": "stream",
     "text": [
      "Training Loss after epoch 66 is 0.13974587642582037 and Accuracy is 96.7479674796748\n",
      "Validation Loss after epoch 66 is 0.11067526787519455 and Accuracy is 96.21621621621621\n"
     ]
    },
    {
     "name": "stderr",
     "output_type": "stream",
     "text": [
      "\r",
      "Percentage training completed:  22%|██▏       | 67/300 [04:40<15:34,  4.01s/it]"
     ]
    },
    {
     "name": "stdout",
     "output_type": "stream",
     "text": [
      "Training Loss after epoch 67 is 0.13945322949433603 and Accuracy is 96.7479674796748\n",
      "Validation Loss after epoch 67 is 0.11047487705945969 and Accuracy is 96.21621621621621\n"
     ]
    },
    {
     "name": "stderr",
     "output_type": "stream",
     "text": [
      "\r",
      "Percentage training completed:  23%|██▎       | 68/300 [04:44<15:27,  4.00s/it]"
     ]
    },
    {
     "name": "stdout",
     "output_type": "stream",
     "text": [
      "Training Loss after epoch 68 is 0.13916384583954292 and Accuracy is 96.7479674796748\n",
      "Validation Loss after epoch 68 is 0.11027854681015015 and Accuracy is 96.21621621621621\n"
     ]
    },
    {
     "name": "stderr",
     "output_type": "stream",
     "text": [
      "\r",
      "Percentage training completed:  23%|██▎       | 69/300 [04:48<15:19,  3.98s/it]"
     ]
    },
    {
     "name": "stdout",
     "output_type": "stream",
     "text": [
      "Training Loss after epoch 69 is 0.13887766407176136 and Accuracy is 96.7479674796748\n",
      "Validation Loss after epoch 69 is 0.11008653789758682 and Accuracy is 96.21621621621621\n"
     ]
    },
    {
     "name": "stderr",
     "output_type": "stream",
     "text": [
      "\r",
      "Percentage training completed:  23%|██▎       | 70/300 [04:52<15:14,  3.98s/it]"
     ]
    },
    {
     "name": "stdout",
     "output_type": "stream",
     "text": [
      "Training Loss after epoch 70 is 0.1385949401494789 and Accuracy is 96.7479674796748\n",
      "Validation Loss after epoch 70 is 0.10989882797002792 and Accuracy is 96.21621621621621\n"
     ]
    },
    {
     "name": "stderr",
     "output_type": "stream",
     "text": [
      "\r",
      "Percentage training completed:  24%|██▎       | 71/300 [04:56<15:09,  3.97s/it]"
     ]
    },
    {
     "name": "stdout",
     "output_type": "stream",
     "text": [
      "Training Loss after epoch 71 is 0.13831551900748687 and Accuracy is 96.7479674796748\n",
      "Validation Loss after epoch 71 is 0.10971543192863464 and Accuracy is 96.21621621621621\n"
     ]
    },
    {
     "name": "stderr",
     "output_type": "stream",
     "text": [
      "\r",
      "Percentage training completed:  24%|██▍       | 72/300 [05:00<15:05,  3.97s/it]"
     ]
    },
    {
     "name": "stdout",
     "output_type": "stream",
     "text": [
      "Training Loss after epoch 72 is 0.13803942439451097 and Accuracy is 96.7479674796748\n",
      "Validation Loss after epoch 72 is 0.1095360592007637 and Accuracy is 96.21621621621621\n"
     ]
    },
    {
     "name": "stderr",
     "output_type": "stream",
     "text": [
      "\r",
      "Percentage training completed:  24%|██▍       | 73/300 [05:04<15:00,  3.97s/it]"
     ]
    },
    {
     "name": "stdout",
     "output_type": "stream",
     "text": [
      "Training Loss after epoch 73 is 0.13776660982203262 and Accuracy is 96.7479674796748\n",
      "Validation Loss after epoch 73 is 0.10936108976602554 and Accuracy is 96.21621621621621\n"
     ]
    },
    {
     "name": "stderr",
     "output_type": "stream",
     "text": [
      "\r",
      "Percentage training completed:  25%|██▍       | 74/300 [05:08<14:58,  3.98s/it]"
     ]
    },
    {
     "name": "stdout",
     "output_type": "stream",
     "text": [
      "Training Loss after epoch 74 is 0.13749717369980394 and Accuracy is 96.7479674796748\n",
      "Validation Loss after epoch 74 is 0.1091901957988739 and Accuracy is 96.21621621621621\n"
     ]
    },
    {
     "name": "stderr",
     "output_type": "stream",
     "text": [
      "\r",
      "Percentage training completed:  25%|██▌       | 75/300 [05:12<14:54,  3.98s/it]"
     ]
    },
    {
     "name": "stdout",
     "output_type": "stream",
     "text": [
      "Training Loss after epoch 75 is 0.13723108599267184 and Accuracy is 96.7479674796748\n",
      "Validation Loss after epoch 75 is 0.1090235635638237 and Accuracy is 96.21621621621621\n"
     ]
    },
    {
     "name": "stderr",
     "output_type": "stream",
     "text": [
      "\r",
      "Percentage training completed:  25%|██▌       | 76/300 [05:16<14:50,  3.97s/it]"
     ]
    },
    {
     "name": "stdout",
     "output_type": "stream",
     "text": [
      "Training Loss after epoch 76 is 0.1369683037821877 and Accuracy is 96.7479674796748\n",
      "Validation Loss after epoch 76 is 0.1088610291481018 and Accuracy is 96.21621621621621\n"
     ]
    },
    {
     "name": "stderr",
     "output_type": "stream",
     "text": [
      "\r",
      "Percentage training completed:  26%|██▌       | 77/300 [05:20<14:46,  3.98s/it]"
     ]
    },
    {
     "name": "stdout",
     "output_type": "stream",
     "text": [
      "Training Loss after epoch 77 is 0.13670881744468488 and Accuracy is 96.7479674796748\n",
      "Validation Loss after epoch 77 is 0.10870259255170822 and Accuracy is 96.21621621621621\n"
     ]
    },
    {
     "name": "stderr",
     "output_type": "stream",
     "text": [
      "\r",
      "Percentage training completed:  26%|██▌       | 78/300 [05:24<14:55,  4.03s/it]"
     ]
    },
    {
     "name": "stdout",
     "output_type": "stream",
     "text": [
      "Training Loss after epoch 78 is 0.13645258933920937 and Accuracy is 96.88346883468834\n",
      "Validation Loss after epoch 78 is 0.10854823142290115 and Accuracy is 96.21621621621621\n"
     ]
    },
    {
     "name": "stderr",
     "output_type": "stream",
     "text": [
      "\r",
      "Percentage training completed:  26%|██▋       | 79/300 [05:28<14:46,  4.01s/it]"
     ]
    },
    {
     "name": "stdout",
     "output_type": "stream",
     "text": [
      "Training Loss after epoch 79 is 0.13619960270195483 and Accuracy is 96.88346883468834\n",
      "Validation Loss after epoch 79 is 0.10839798301458359 and Accuracy is 96.21621621621621\n"
     ]
    },
    {
     "name": "stderr",
     "output_type": "stream",
     "text": [
      "\r",
      "Percentage training completed:  27%|██▋       | 80/300 [05:32<14:42,  4.01s/it]"
     ]
    },
    {
     "name": "stdout",
     "output_type": "stream",
     "text": [
      "Training Loss after epoch 80 is 0.1359499529934851 and Accuracy is 96.88346883468834\n",
      "Validation Loss after epoch 80 is 0.10825148224830627 and Accuracy is 96.21621621621621\n"
     ]
    },
    {
     "name": "stderr",
     "output_type": "stream",
     "text": [
      "\r",
      "Percentage training completed:  27%|██▋       | 81/300 [05:36<14:41,  4.03s/it]"
     ]
    },
    {
     "name": "stdout",
     "output_type": "stream",
     "text": [
      "Training Loss after epoch 81 is 0.1357033138628386 and Accuracy is 96.88346883468834\n",
      "Validation Loss after epoch 81 is 0.10810903459787369 and Accuracy is 96.21621621621621\n"
     ]
    },
    {
     "name": "stderr",
     "output_type": "stream",
     "text": [
      "\r",
      "Percentage training completed:  27%|██▋       | 82/300 [05:40<14:34,  4.01s/it]"
     ]
    },
    {
     "name": "stdout",
     "output_type": "stream",
     "text": [
      "Training Loss after epoch 82 is 0.1354599530652744 and Accuracy is 97.0189701897019\n",
      "Validation Loss after epoch 82 is 0.10797043889760971 and Accuracy is 96.21621621621621\n"
     ]
    },
    {
     "name": "stderr",
     "output_type": "stream",
     "text": [
      "\r",
      "Percentage training completed:  28%|██▊       | 83/300 [05:44<14:28,  4.00s/it]"
     ]
    },
    {
     "name": "stdout",
     "output_type": "stream",
     "text": [
      "Training Loss after epoch 83 is 0.1352196904674751 and Accuracy is 97.0189701897019\n",
      "Validation Loss after epoch 83 is 0.10783565789461136 and Accuracy is 96.21621621621621\n"
     ]
    },
    {
     "name": "stderr",
     "output_type": "stream",
     "text": [
      "\r",
      "Percentage training completed:  28%|██▊       | 84/300 [05:48<14:34,  4.05s/it]"
     ]
    },
    {
     "name": "stdout",
     "output_type": "stream",
     "text": [
      "Training Loss after epoch 84 is 0.13498252521572832 and Accuracy is 97.0189701897019\n",
      "Validation Loss after epoch 84 is 0.10770457237958908 and Accuracy is 96.21621621621621\n"
     ]
    },
    {
     "name": "stderr",
     "output_type": "stream",
     "text": [
      "\r",
      "Percentage training completed:  28%|██▊       | 85/300 [05:52<14:40,  4.09s/it]"
     ]
    },
    {
     "name": "stdout",
     "output_type": "stream",
     "text": [
      "Training Loss after epoch 85 is 0.1347483602972659 and Accuracy is 97.0189701897019\n",
      "Validation Loss after epoch 85 is 0.10757725685834885 and Accuracy is 96.21621621621621\n"
     ]
    },
    {
     "name": "stderr",
     "output_type": "stream",
     "text": [
      "\r",
      "Percentage training completed:  29%|██▊       | 86/300 [05:56<14:44,  4.13s/it]"
     ]
    },
    {
     "name": "stdout",
     "output_type": "stream",
     "text": [
      "Training Loss after epoch 86 is 0.13451725873158202 and Accuracy is 97.0189701897019\n",
      "Validation Loss after epoch 86 is 0.10745351761579514 and Accuracy is 96.21621621621621\n"
     ]
    },
    {
     "name": "stderr",
     "output_type": "stream",
     "text": [
      "\r",
      "Percentage training completed:  29%|██▉       | 87/300 [06:01<14:47,  4.17s/it]"
     ]
    },
    {
     "name": "stdout",
     "output_type": "stream",
     "text": [
      "Training Loss after epoch 87 is 0.13428909230660224 and Accuracy is 97.0189701897019\n",
      "Validation Loss after epoch 87 is 0.10733342170715332 and Accuracy is 96.21621621621621\n"
     ]
    },
    {
     "name": "stderr",
     "output_type": "stream",
     "text": [
      "\r",
      "Percentage training completed:  29%|██▉       | 88/300 [06:05<14:46,  4.18s/it]"
     ]
    },
    {
     "name": "stdout",
     "output_type": "stream",
     "text": [
      "Training Loss after epoch 88 is 0.13406380793693984 and Accuracy is 97.0189701897019\n",
      "Validation Loss after epoch 88 is 0.10721675306558609 and Accuracy is 96.21621621621621\n"
     ]
    },
    {
     "name": "stderr",
     "output_type": "stream",
     "text": [
      "\r",
      "Percentage training completed:  30%|██▉       | 89/300 [06:09<14:47,  4.21s/it]"
     ]
    },
    {
     "name": "stdout",
     "output_type": "stream",
     "text": [
      "Training Loss after epoch 89 is 0.1338414744628551 and Accuracy is 97.0189701897019\n",
      "Validation Loss after epoch 89 is 0.10710359364748001 and Accuracy is 96.21621621621621\n"
     ]
    },
    {
     "name": "stderr",
     "output_type": "stream",
     "text": [
      "\r",
      "Percentage training completed:  30%|███       | 90/300 [06:13<14:44,  4.21s/it]"
     ]
    },
    {
     "name": "stdout",
     "output_type": "stream",
     "text": [
      "Training Loss after epoch 90 is 0.13362191927923087 and Accuracy is 97.0189701897019\n",
      "Validation Loss after epoch 90 is 0.10699392110109329 and Accuracy is 96.21621621621621\n"
     ]
    },
    {
     "name": "stderr",
     "output_type": "stream",
     "text": [
      "\r",
      "Percentage training completed:  30%|███       | 91/300 [06:18<14:40,  4.21s/it]"
     ]
    },
    {
     "name": "stdout",
     "output_type": "stream",
     "text": [
      "Training Loss after epoch 91 is 0.13340521402029518 and Accuracy is 97.0189701897019\n",
      "Validation Loss after epoch 91 is 0.10688737034797668 and Accuracy is 96.21621621621621\n"
     ]
    },
    {
     "name": "stderr",
     "output_type": "stream",
     "text": [
      "\r",
      "Percentage training completed:  31%|███       | 92/300 [06:22<14:43,  4.25s/it]"
     ]
    },
    {
     "name": "stdout",
     "output_type": "stream",
     "text": [
      "Training Loss after epoch 92 is 0.1331911404461247 and Accuracy is 97.0189701897019\n",
      "Validation Loss after epoch 92 is 0.10678421705961227 and Accuracy is 96.21621621621621\n"
     ]
    },
    {
     "name": "stderr",
     "output_type": "stream",
     "text": [
      "\r",
      "Percentage training completed:  31%|███       | 93/300 [06:26<14:34,  4.22s/it]"
     ]
    },
    {
     "name": "stdout",
     "output_type": "stream",
     "text": [
      "Training Loss after epoch 93 is 0.13297988683909998 and Accuracy is 96.88346883468834\n",
      "Validation Loss after epoch 93 is 0.10668427497148514 and Accuracy is 96.21621621621621\n"
     ]
    },
    {
     "name": "stderr",
     "output_type": "stream",
     "text": [
      "\r",
      "Percentage training completed:  31%|███▏      | 94/300 [06:30<14:24,  4.20s/it]"
     ]
    },
    {
     "name": "stdout",
     "output_type": "stream",
     "text": [
      "Training Loss after epoch 94 is 0.13277123868458793 and Accuracy is 96.88346883468834\n",
      "Validation Loss after epoch 94 is 0.10658740997314453 and Accuracy is 96.21621621621621\n"
     ]
    },
    {
     "name": "stderr",
     "output_type": "stream",
     "text": [
      "\r",
      "Percentage training completed:  32%|███▏      | 95/300 [06:34<14:16,  4.18s/it]"
     ]
    },
    {
     "name": "stdout",
     "output_type": "stream",
     "text": [
      "Training Loss after epoch 95 is 0.13256516586982534 and Accuracy is 96.88346883468834\n",
      "Validation Loss after epoch 95 is 0.10649377107620239 and Accuracy is 96.21621621621621\n"
     ]
    },
    {
     "name": "stderr",
     "output_type": "stream",
     "text": [
      "\r",
      "Percentage training completed:  32%|███▏      | 96/300 [06:39<14:13,  4.18s/it]"
     ]
    },
    {
     "name": "stdout",
     "output_type": "stream",
     "text": [
      "Training Loss after epoch 96 is 0.13236174647068802 and Accuracy is 96.88346883468834\n",
      "Validation Loss after epoch 96 is 0.10640298575162888 and Accuracy is 96.21621621621621\n"
     ]
    },
    {
     "name": "stderr",
     "output_type": "stream",
     "text": [
      "\r",
      "Percentage training completed:  32%|███▏      | 97/300 [06:43<14:05,  4.16s/it]"
     ]
    },
    {
     "name": "stdout",
     "output_type": "stream",
     "text": [
      "Training Loss after epoch 97 is 0.13216072305409435 and Accuracy is 96.88346883468834\n",
      "Validation Loss after epoch 97 is 0.1063152328133583 and Accuracy is 96.21621621621621\n"
     ]
    },
    {
     "name": "stderr",
     "output_type": "stream",
     "text": [
      "\r",
      "Percentage training completed:  33%|███▎      | 98/300 [06:47<13:52,  4.12s/it]"
     ]
    },
    {
     "name": "stdout",
     "output_type": "stream",
     "text": [
      "Training Loss after epoch 98 is 0.13196216205438796 and Accuracy is 96.88346883468834\n",
      "Validation Loss after epoch 98 is 0.10623040795326233 and Accuracy is 96.21621621621621\n"
     ]
    },
    {
     "name": "stderr",
     "output_type": "stream",
     "text": [
      "\r",
      "Percentage training completed:  33%|███▎      | 99/300 [06:51<13:35,  4.06s/it]"
     ]
    },
    {
     "name": "stdout",
     "output_type": "stream",
     "text": [
      "Training Loss after epoch 99 is 0.1317661319237781 and Accuracy is 96.88346883468834\n",
      "Validation Loss after epoch 99 is 0.10614844411611557 and Accuracy is 96.21621621621621\n"
     ]
    },
    {
     "name": "stderr",
     "output_type": "stream",
     "text": [
      "\r",
      "Percentage training completed:  33%|███▎      | 100/300 [06:55<13:22,  4.01s/it]"
     ]
    },
    {
     "name": "stdout",
     "output_type": "stream",
     "text": [
      "Training Loss after epoch 100 is 0.13157237942013467 and Accuracy is 96.88346883468834\n",
      "Validation Loss after epoch 100 is 0.10606920719146729 and Accuracy is 96.21621621621621\n"
     ]
    },
    {
     "name": "stderr",
     "output_type": "stream",
     "text": [
      "\r",
      "Percentage training completed:  34%|███▎      | 101/300 [06:58<13:11,  3.98s/it]"
     ]
    },
    {
     "name": "stdout",
     "output_type": "stream",
     "text": [
      "Training Loss after epoch 101 is 0.13138094753951654 and Accuracy is 96.88346883468834\n",
      "Validation Loss after epoch 101 is 0.10599273443222046 and Accuracy is 96.21621621621621\n"
     ]
    },
    {
     "name": "stderr",
     "output_type": "stream",
     "text": [
      "\r",
      "Percentage training completed:  34%|███▍      | 102/300 [07:02<13:02,  3.95s/it]"
     ]
    },
    {
     "name": "stdout",
     "output_type": "stream",
     "text": [
      "Training Loss after epoch 102 is 0.13119183659236455 and Accuracy is 96.88346883468834\n",
      "Validation Loss after epoch 102 is 0.10591888427734375 and Accuracy is 96.21621621621621\n"
     ]
    },
    {
     "name": "stderr",
     "output_type": "stream",
     "text": [
      "\r",
      "Percentage training completed:  34%|███▍      | 103/300 [07:06<12:55,  3.94s/it]"
     ]
    },
    {
     "name": "stdout",
     "output_type": "stream",
     "text": [
      "Training Loss after epoch 103 is 0.13100490975187049 and Accuracy is 96.7479674796748\n",
      "Validation Loss after epoch 103 is 0.10584767907857895 and Accuracy is 96.21621621621621\n"
     ]
    },
    {
     "name": "stderr",
     "output_type": "stream",
     "text": [
      "\r",
      "Percentage training completed:  35%|███▍      | 104/300 [07:10<12:53,  3.95s/it]"
     ]
    },
    {
     "name": "stdout",
     "output_type": "stream",
     "text": [
      "Training Loss after epoch 104 is 0.13082014955573604 and Accuracy is 96.7479674796748\n",
      "Validation Loss after epoch 104 is 0.10577896237373352 and Accuracy is 96.21621621621621\n"
     ]
    },
    {
     "name": "stderr",
     "output_type": "stream",
     "text": [
      "\r",
      "Percentage training completed:  35%|███▌      | 105/300 [07:14<12:46,  3.93s/it]"
     ]
    },
    {
     "name": "stdout",
     "output_type": "stream",
     "text": [
      "Training Loss after epoch 105 is 0.1306375229420098 and Accuracy is 96.7479674796748\n",
      "Validation Loss after epoch 105 is 0.1057128980755806 and Accuracy is 96.21621621621621\n"
     ]
    },
    {
     "name": "stderr",
     "output_type": "stream",
     "text": [
      "\r",
      "Percentage training completed:  35%|███▌      | 106/300 [07:18<12:41,  3.92s/it]"
     ]
    },
    {
     "name": "stdout",
     "output_type": "stream",
     "text": [
      "Training Loss after epoch 106 is 0.13045699669351998 and Accuracy is 96.7479674796748\n",
      "Validation Loss after epoch 106 is 0.10564909130334854 and Accuracy is 96.21621621621621\n"
     ]
    },
    {
     "name": "stderr",
     "output_type": "stream",
     "text": [
      "\r",
      "Percentage training completed:  36%|███▌      | 107/300 [07:22<12:48,  3.98s/it]"
     ]
    },
    {
     "name": "stdout",
     "output_type": "stream",
     "text": [
      "Training Loss after epoch 107 is 0.13027846308728877 and Accuracy is 96.7479674796748\n",
      "Validation Loss after epoch 107 is 0.10558780282735825 and Accuracy is 96.21621621621621\n"
     ]
    },
    {
     "name": "stderr",
     "output_type": "stream",
     "text": [
      "\r",
      "Percentage training completed:  36%|███▌      | 108/300 [07:26<12:41,  3.97s/it]"
     ]
    },
    {
     "name": "stdout",
     "output_type": "stream",
     "text": [
      "Training Loss after epoch 108 is 0.13010194501832947 and Accuracy is 96.7479674796748\n",
      "Validation Loss after epoch 108 is 0.10552877187728882 and Accuracy is 96.21621621621621\n"
     ]
    },
    {
     "name": "stderr",
     "output_type": "stream",
     "text": [
      "\r",
      "Percentage training completed:  36%|███▋      | 109/300 [07:30<12:33,  3.94s/it]"
     ]
    },
    {
     "name": "stdout",
     "output_type": "stream",
     "text": [
      "Training Loss after epoch 109 is 0.12992733437561318 and Accuracy is 96.7479674796748\n",
      "Validation Loss after epoch 109 is 0.10547200590372086 and Accuracy is 96.21621621621621\n"
     ]
    },
    {
     "name": "stderr",
     "output_type": "stream",
     "text": [
      "\r",
      "Percentage training completed:  37%|███▋      | 110/300 [07:34<12:37,  3.98s/it]"
     ]
    },
    {
     "name": "stdout",
     "output_type": "stream",
     "text": [
      "Training Loss after epoch 110 is 0.12975464086041674 and Accuracy is 96.7479674796748\n",
      "Validation Loss after epoch 110 is 0.10541751980781555 and Accuracy is 96.21621621621621\n"
     ]
    },
    {
     "name": "stderr",
     "output_type": "stream",
     "text": [
      "\r",
      "Percentage training completed:  37%|███▋      | 111/300 [07:38<12:31,  3.97s/it]"
     ]
    },
    {
     "name": "stdout",
     "output_type": "stream",
     "text": [
      "Training Loss after epoch 111 is 0.12958376210486713 and Accuracy is 96.7479674796748\n",
      "Validation Loss after epoch 111 is 0.10536523908376694 and Accuracy is 96.21621621621621\n"
     ]
    },
    {
     "name": "stderr",
     "output_type": "stream",
     "text": [
      "\r",
      "Percentage training completed:  37%|███▋      | 112/300 [07:42<12:23,  3.96s/it]"
     ]
    },
    {
     "name": "stdout",
     "output_type": "stream",
     "text": [
      "Training Loss after epoch 112 is 0.1294147273680153 and Accuracy is 96.7479674796748\n",
      "Validation Loss after epoch 112 is 0.10531499981880188 and Accuracy is 96.21621621621621\n"
     ]
    },
    {
     "name": "stderr",
     "output_type": "stream",
     "text": [
      "\r",
      "Percentage training completed:  38%|███▊      | 113/300 [07:46<12:17,  3.94s/it]"
     ]
    },
    {
     "name": "stdout",
     "output_type": "stream",
     "text": [
      "Training Loss after epoch 113 is 0.12924739229486212 and Accuracy is 96.7479674796748\n",
      "Validation Loss after epoch 113 is 0.10526692122220993 and Accuracy is 96.21621621621621\n"
     ]
    },
    {
     "name": "stderr",
     "output_type": "stream",
     "text": [
      "\r",
      "Percentage training completed:  38%|███▊      | 114/300 [07:50<12:11,  3.93s/it]"
     ]
    },
    {
     "name": "stdout",
     "output_type": "stream",
     "text": [
      "Training Loss after epoch 114 is 0.1290817851355257 and Accuracy is 96.7479674796748\n",
      "Validation Loss after epoch 114 is 0.10522082448005676 and Accuracy is 96.21621621621621\n"
     ]
    },
    {
     "name": "stderr",
     "output_type": "stream",
     "text": [
      "\r",
      "Percentage training completed:  38%|███▊      | 115/300 [07:54<12:07,  3.93s/it]"
     ]
    },
    {
     "name": "stdout",
     "output_type": "stream",
     "text": [
      "Training Loss after epoch 115 is 0.12891781415473247 and Accuracy is 96.7479674796748\n",
      "Validation Loss after epoch 115 is 0.10517673939466476 and Accuracy is 96.21621621621621\n"
     ]
    },
    {
     "name": "stderr",
     "output_type": "stream",
     "text": [
      "\r",
      "Percentage training completed:  39%|███▊      | 116/300 [07:58<12:03,  3.93s/it]"
     ]
    },
    {
     "name": "stdout",
     "output_type": "stream",
     "text": [
      "Training Loss after epoch 116 is 0.12875546592591527 and Accuracy is 96.7479674796748\n",
      "Validation Loss after epoch 116 is 0.10513459891080856 and Accuracy is 96.21621621621621\n"
     ]
    },
    {
     "name": "stderr",
     "output_type": "stream",
     "text": [
      "\r",
      "Percentage training completed:  39%|███▉      | 117/300 [08:02<11:58,  3.93s/it]"
     ]
    },
    {
     "name": "stdout",
     "output_type": "stream",
     "text": [
      "Training Loss after epoch 117 is 0.12859471654512808 and Accuracy is 96.7479674796748\n",
      "Validation Loss after epoch 117 is 0.10509441047906876 and Accuracy is 96.21621621621621\n"
     ]
    },
    {
     "name": "stderr",
     "output_type": "stream",
     "text": [
      "\r",
      "Percentage training completed:  39%|███▉      | 118/300 [08:05<11:53,  3.92s/it]"
     ]
    },
    {
     "name": "stdout",
     "output_type": "stream",
     "text": [
      "Training Loss after epoch 118 is 0.12843549142895463 and Accuracy is 96.7479674796748\n",
      "Validation Loss after epoch 118 is 0.10505593568086624 and Accuracy is 96.21621621621621\n"
     ]
    },
    {
     "name": "stderr",
     "output_type": "stream",
     "text": [
      "\r",
      "Percentage training completed:  40%|███▉      | 119/300 [08:10<11:57,  3.97s/it]"
     ]
    },
    {
     "name": "stdout",
     "output_type": "stream",
     "text": [
      "Training Loss after epoch 119 is 0.12827769162437144 and Accuracy is 96.7479674796748\n",
      "Validation Loss after epoch 119 is 0.10501948744058609 and Accuracy is 95.67567567567568\n"
     ]
    },
    {
     "name": "stderr",
     "output_type": "stream",
     "text": [
      "\r",
      "Percentage training completed:  40%|████      | 120/300 [08:13<11:50,  3.94s/it]"
     ]
    },
    {
     "name": "stdout",
     "output_type": "stream",
     "text": [
      "Training Loss after epoch 120 is 0.12812143843614385 and Accuracy is 96.7479674796748\n",
      "Validation Loss after epoch 120 is 0.10498464107513428 and Accuracy is 95.67567567567568\n"
     ]
    },
    {
     "name": "stderr",
     "output_type": "stream",
     "text": [
      "\r",
      "Percentage training completed:  40%|████      | 121/300 [08:17<11:45,  3.94s/it]"
     ]
    },
    {
     "name": "stdout",
     "output_type": "stream",
     "text": [
      "Training Loss after epoch 121 is 0.127966518513792 and Accuracy is 96.88346883468834\n",
      "Validation Loss after epoch 121 is 0.1049516499042511 and Accuracy is 95.67567567567568\n"
     ]
    },
    {
     "name": "stderr",
     "output_type": "stream",
     "text": [
      "\r",
      "Percentage training completed:  41%|████      | 122/300 [08:21<11:45,  3.96s/it]"
     ]
    },
    {
     "name": "stdout",
     "output_type": "stream",
     "text": [
      "Training Loss after epoch 122 is 0.1278129774921221 and Accuracy is 96.88346883468834\n",
      "Validation Loss after epoch 122 is 0.10492029041051865 and Accuracy is 95.67567567567568\n"
     ]
    },
    {
     "name": "stderr",
     "output_type": "stream",
     "text": [
      "\r",
      "Percentage training completed:  41%|████      | 123/300 [08:25<11:47,  4.00s/it]"
     ]
    },
    {
     "name": "stdout",
     "output_type": "stream",
     "text": [
      "Training Loss after epoch 123 is 0.12766073069839004 and Accuracy is 96.88346883468834\n",
      "Validation Loss after epoch 123 is 0.10489056259393692 and Accuracy is 95.67567567567568\n"
     ]
    },
    {
     "name": "stderr",
     "output_type": "stream",
     "text": [
      "\r",
      "Percentage training completed:  41%|████▏     | 124/300 [08:29<11:41,  3.99s/it]"
     ]
    },
    {
     "name": "stdout",
     "output_type": "stream",
     "text": [
      "Training Loss after epoch 124 is 0.12750977440730557 and Accuracy is 96.88346883468834\n",
      "Validation Loss after epoch 124 is 0.10486259311437607 and Accuracy is 95.67567567567568\n"
     ]
    },
    {
     "name": "stderr",
     "output_type": "stream",
     "text": [
      "\r",
      "Percentage training completed:  42%|████▏     | 125/300 [08:33<11:35,  3.97s/it]"
     ]
    },
    {
     "name": "stdout",
     "output_type": "stream",
     "text": [
      "Training Loss after epoch 125 is 0.1273601186305863 and Accuracy is 96.88346883468834\n",
      "Validation Loss after epoch 125 is 0.1048361286520958 and Accuracy is 95.67567567567568\n"
     ]
    },
    {
     "name": "stderr",
     "output_type": "stream",
     "text": [
      "\r",
      "Percentage training completed:  42%|████▏     | 126/300 [08:37<11:29,  3.97s/it]"
     ]
    },
    {
     "name": "stdout",
     "output_type": "stream",
     "text": [
      "Training Loss after epoch 126 is 0.1272116339143944 and Accuracy is 96.88346883468834\n",
      "Validation Loss after epoch 126 is 0.10481124371290207 and Accuracy is 95.67567567567568\n"
     ]
    },
    {
     "name": "stderr",
     "output_type": "stream",
     "text": [
      "\r",
      "Percentage training completed:  42%|████▏     | 127/300 [08:41<11:34,  4.01s/it]"
     ]
    },
    {
     "name": "stdout",
     "output_type": "stream",
     "text": [
      "Training Loss after epoch 127 is 0.1270643245272917 and Accuracy is 96.88346883468834\n",
      "Validation Loss after epoch 127 is 0.1047879233956337 and Accuracy is 95.67567567567568\n"
     ]
    },
    {
     "name": "stderr",
     "output_type": "stream",
     "text": [
      "\r",
      "Percentage training completed:  43%|████▎     | 128/300 [08:46<11:36,  4.05s/it]"
     ]
    },
    {
     "name": "stdout",
     "output_type": "stream",
     "text": [
      "Training Loss after epoch 128 is 0.1269181331153296 and Accuracy is 97.0189701897019\n",
      "Validation Loss after epoch 128 is 0.10476604849100113 and Accuracy is 95.67567567567568\n"
     ]
    },
    {
     "name": "stderr",
     "output_type": "stream",
     "text": [
      "\r",
      "Percentage training completed:  43%|████▎     | 129/300 [08:50<11:39,  4.09s/it]"
     ]
    },
    {
     "name": "stdout",
     "output_type": "stream",
     "text": [
      "Training Loss after epoch 129 is 0.12677300946469927 and Accuracy is 97.0189701897019\n",
      "Validation Loss after epoch 129 is 0.10474570840597153 and Accuracy is 95.67567567567568\n"
     ]
    },
    {
     "name": "stderr",
     "output_type": "stream",
     "text": [
      "\r",
      "Percentage training completed:  43%|████▎     | 130/300 [08:54<11:37,  4.10s/it]"
     ]
    },
    {
     "name": "stdout",
     "output_type": "stream",
     "text": [
      "Training Loss after epoch 130 is 0.12662898733584407 and Accuracy is 97.0189701897019\n",
      "Validation Loss after epoch 130 is 0.10472678393125534 and Accuracy is 95.67567567567568\n"
     ]
    },
    {
     "name": "stderr",
     "output_type": "stream",
     "text": [
      "\r",
      "Percentage training completed:  44%|████▎     | 131/300 [08:58<11:34,  4.11s/it]"
     ]
    },
    {
     "name": "stdout",
     "output_type": "stream",
     "text": [
      "Training Loss after epoch 131 is 0.12648594845080652 and Accuracy is 97.0189701897019\n",
      "Validation Loss after epoch 131 is 0.10470932722091675 and Accuracy is 95.67567567567568\n"
     ]
    },
    {
     "name": "stderr",
     "output_type": "stream",
     "text": [
      "\r",
      "Percentage training completed:  44%|████▍     | 132/300 [09:02<11:32,  4.12s/it]"
     ]
    },
    {
     "name": "stdout",
     "output_type": "stream",
     "text": [
      "Training Loss after epoch 132 is 0.12634396048567473 and Accuracy is 97.0189701897019\n",
      "Validation Loss after epoch 132 is 0.104693204164505 and Accuracy is 95.67567567567568\n"
     ]
    },
    {
     "name": "stderr",
     "output_type": "stream",
     "text": [
      "\r",
      "Percentage training completed:  44%|████▍     | 133/300 [09:06<11:29,  4.13s/it]"
     ]
    },
    {
     "name": "stdout",
     "output_type": "stream",
     "text": [
      "Training Loss after epoch 133 is 0.126202871091607 and Accuracy is 97.0189701897019\n",
      "Validation Loss after epoch 133 is 0.10467847436666489 and Accuracy is 95.67567567567568\n"
     ]
    },
    {
     "name": "stderr",
     "output_type": "stream",
     "text": [
      "\r",
      "Percentage training completed:  45%|████▍     | 134/300 [09:11<11:31,  4.17s/it]"
     ]
    },
    {
     "name": "stdout",
     "output_type": "stream",
     "text": [
      "Training Loss after epoch 134 is 0.12606274972974538 and Accuracy is 97.0189701897019\n",
      "Validation Loss after epoch 134 is 0.10466504096984863 and Accuracy is 95.67567567567568\n"
     ]
    },
    {
     "name": "stderr",
     "output_type": "stream",
     "text": [
      "\r",
      "Percentage training completed:  45%|████▌     | 135/300 [09:15<11:27,  4.17s/it]"
     ]
    },
    {
     "name": "stdout",
     "output_type": "stream",
     "text": [
      "Training Loss after epoch 135 is 0.12592348293395617 and Accuracy is 97.0189701897019\n",
      "Validation Loss after epoch 135 is 0.104653000831604 and Accuracy is 95.67567567567568\n"
     ]
    },
    {
     "name": "stderr",
     "output_type": "stream",
     "text": [
      "\r",
      "Percentage training completed:  45%|████▌     | 136/300 [09:19<11:27,  4.19s/it]"
     ]
    },
    {
     "name": "stdout",
     "output_type": "stream",
     "text": [
      "Training Loss after epoch 136 is 0.12578512572988151 and Accuracy is 97.0189701897019\n",
      "Validation Loss after epoch 136 is 0.10464221984148026 and Accuracy is 95.67567567567568\n"
     ]
    },
    {
     "name": "stderr",
     "output_type": "stream",
     "text": [
      "\r",
      "Percentage training completed:  46%|████▌     | 137/300 [09:23<11:27,  4.22s/it]"
     ]
    },
    {
     "name": "stdout",
     "output_type": "stream",
     "text": [
      "Training Loss after epoch 137 is 0.12564757784512418 and Accuracy is 97.0189701897019\n",
      "Validation Loss after epoch 137 is 0.10463276505470276 and Accuracy is 95.67567567567568\n"
     ]
    },
    {
     "name": "stderr",
     "output_type": "stream",
     "text": [
      "\r",
      "Percentage training completed:  46%|████▌     | 138/300 [09:27<11:21,  4.21s/it]"
     ]
    },
    {
     "name": "stdout",
     "output_type": "stream",
     "text": [
      "Training Loss after epoch 138 is 0.12551084176321106 and Accuracy is 97.0189701897019\n",
      "Validation Loss after epoch 138 is 0.10462450981140137 and Accuracy is 95.67567567567568\n"
     ]
    },
    {
     "name": "stderr",
     "output_type": "stream",
     "text": [
      "\r",
      "Percentage training completed:  46%|████▋     | 139/300 [09:32<11:14,  4.19s/it]"
     ]
    },
    {
     "name": "stdout",
     "output_type": "stream",
     "text": [
      "Training Loss after epoch 139 is 0.12537486036302425 and Accuracy is 97.0189701897019\n",
      "Validation Loss after epoch 139 is 0.10461754351854324 and Accuracy is 95.67567567567568\n"
     ]
    },
    {
     "name": "stderr",
     "output_type": "stream",
     "text": [
      "\r",
      "Percentage training completed:  47%|████▋     | 140/300 [09:36<11:13,  4.21s/it]"
     ]
    },
    {
     "name": "stdout",
     "output_type": "stream",
     "text": [
      "Training Loss after epoch 140 is 0.12523964016382175 and Accuracy is 97.15447154471545\n",
      "Validation Loss after epoch 140 is 0.10461176186800003 and Accuracy is 95.67567567567568\n"
     ]
    },
    {
     "name": "stderr",
     "output_type": "stream",
     "text": [
      "\r",
      "Percentage training completed:  47%|████▋     | 141/300 [09:40<11:06,  4.19s/it]"
     ]
    },
    {
     "name": "stdout",
     "output_type": "stream",
     "text": [
      "Training Loss after epoch 141 is 0.1251051109283594 and Accuracy is 97.15447154471545\n",
      "Validation Loss after epoch 141 is 0.10460718721151352 and Accuracy is 95.67567567567568\n"
     ]
    },
    {
     "name": "stderr",
     "output_type": "stream",
     "text": [
      "\r",
      "Percentage training completed:  47%|████▋     | 142/300 [09:44<10:50,  4.12s/it]"
     ]
    },
    {
     "name": "stdout",
     "output_type": "stream",
     "text": [
      "Training Loss after epoch 142 is 0.12497129989782252 and Accuracy is 97.15447154471545\n",
      "Validation Loss after epoch 142 is 0.1046038344502449 and Accuracy is 95.67567567567568\n"
     ]
    },
    {
     "name": "stderr",
     "output_type": "stream",
     "text": [
      "\r",
      "Percentage training completed:  48%|████▊     | 143/300 [09:48<10:36,  4.06s/it]"
     ]
    },
    {
     "name": "stdout",
     "output_type": "stream",
     "text": [
      "Training Loss after epoch 143 is 0.12483814933021146 and Accuracy is 97.15447154471545\n",
      "Validation Loss after epoch 143 is 0.10460165143013 and Accuracy is 95.67567567567568\n"
     ]
    },
    {
     "name": "stderr",
     "output_type": "stream",
     "text": [
      "\r",
      "Percentage training completed:  48%|████▊     | 144/300 [09:52<10:26,  4.01s/it]"
     ]
    },
    {
     "name": "stdout",
     "output_type": "stream",
     "text": [
      "Training Loss after epoch 144 is 0.1247056371842253 and Accuracy is 97.15447154471545\n",
      "Validation Loss after epoch 144 is 0.10460060089826584 and Accuracy is 95.67567567567568\n"
     ]
    },
    {
     "name": "stderr",
     "output_type": "stream",
     "text": [
      "\r",
      "Percentage training completed:  48%|████▊     | 145/300 [09:56<10:17,  3.98s/it]"
     ]
    },
    {
     "name": "stdout",
     "output_type": "stream",
     "text": [
      "Training Loss after epoch 145 is 0.12457372775916535 and Accuracy is 97.15447154471545\n",
      "Validation Loss after epoch 145 is 0.10460072010755539 and Accuracy is 95.67567567567568\n"
     ]
    },
    {
     "name": "stderr",
     "output_type": "stream",
     "text": [
      "\r",
      "Percentage training completed:  49%|████▊     | 146/300 [10:00<10:10,  3.97s/it]"
     ]
    },
    {
     "name": "stdout",
     "output_type": "stream",
     "text": [
      "Training Loss after epoch 146 is 0.1244423671935427 and Accuracy is 97.15447154471545\n",
      "Validation Loss after epoch 146 is 0.10460197180509567 and Accuracy is 95.67567567567568\n"
     ]
    },
    {
     "name": "stderr",
     "output_type": "stream",
     "text": [
      "\r",
      "Percentage training completed:  49%|████▉     | 147/300 [10:03<10:03,  3.94s/it]"
     ]
    },
    {
     "name": "stdout",
     "output_type": "stream",
     "text": [
      "Training Loss after epoch 147 is 0.12431161198759355 and Accuracy is 97.15447154471545\n",
      "Validation Loss after epoch 147 is 0.1046043410897255 and Accuracy is 95.67567567567568\n"
     ]
    },
    {
     "name": "stderr",
     "output_type": "stream",
     "text": [
      "\r",
      "Percentage training completed:  49%|████▉     | 148/300 [10:07<10:02,  3.96s/it]"
     ]
    },
    {
     "name": "stdout",
     "output_type": "stream",
     "text": [
      "Training Loss after epoch 148 is 0.12418137056126473 and Accuracy is 97.15447154471545\n",
      "Validation Loss after epoch 148 is 0.10460779070854187 and Accuracy is 95.67567567567568\n"
     ]
    },
    {
     "name": "stderr",
     "output_type": "stream",
     "text": [
      "\r",
      "Percentage training completed:  50%|████▉     | 149/300 [10:11<10:00,  3.97s/it]"
     ]
    },
    {
     "name": "stdout",
     "output_type": "stream",
     "text": [
      "Training Loss after epoch 149 is 0.1240516730273195 and Accuracy is 97.0189701897019\n",
      "Validation Loss after epoch 149 is 0.1046123206615448 and Accuracy is 95.67567567567568\n"
     ]
    },
    {
     "name": "stderr",
     "output_type": "stream",
     "text": [
      "\r",
      "Percentage training completed:  50%|█████     | 150/300 [10:15<09:57,  3.99s/it]"
     ]
    },
    {
     "name": "stdout",
     "output_type": "stream",
     "text": [
      "Training Loss after epoch 150 is 0.1239224563662636 and Accuracy is 97.0189701897019\n",
      "Validation Loss after epoch 150 is 0.10461798310279846 and Accuracy is 95.67567567567568\n"
     ]
    },
    {
     "name": "stderr",
     "output_type": "stream",
     "text": [
      "\r",
      "Percentage training completed:  50%|█████     | 151/300 [10:19<09:52,  3.98s/it]"
     ]
    },
    {
     "name": "stdout",
     "output_type": "stream",
     "text": [
      "Training Loss after epoch 151 is 0.12379373920454857 and Accuracy is 97.0189701897019\n",
      "Validation Loss after epoch 151 is 0.10462474822998047 and Accuracy is 95.67567567567568\n"
     ]
    },
    {
     "name": "stderr",
     "output_type": "stream",
     "text": [
      "\r",
      "Percentage training completed:  51%|█████     | 152/300 [10:24<09:53,  4.01s/it]"
     ]
    },
    {
     "name": "stdout",
     "output_type": "stream",
     "text": [
      "Training Loss after epoch 152 is 0.12366541257743317 and Accuracy is 97.0189701897019\n",
      "Validation Loss after epoch 152 is 0.10463248938322067 and Accuracy is 95.67567567567568\n"
     ]
    },
    {
     "name": "stderr",
     "output_type": "stream",
     "text": [
      "\r",
      "Percentage training completed:  51%|█████     | 153/300 [10:27<09:47,  3.99s/it]"
     ]
    },
    {
     "name": "stdout",
     "output_type": "stream",
     "text": [
      "Training Loss after epoch 153 is 0.12353753438213744 and Accuracy is 97.0189701897019\n",
      "Validation Loss after epoch 153 is 0.10464135557413101 and Accuracy is 95.67567567567568\n"
     ]
    },
    {
     "name": "stderr",
     "output_type": "stream",
     "text": [
      "\r",
      "Percentage training completed:  51%|█████▏    | 154/300 [10:31<09:40,  3.98s/it]"
     ]
    },
    {
     "name": "stdout",
     "output_type": "stream",
     "text": [
      "Training Loss after epoch 154 is 0.12341003663211343 and Accuracy is 97.0189701897019\n",
      "Validation Loss after epoch 154 is 0.10465124994516373 and Accuracy is 95.67567567567568\n"
     ]
    },
    {
     "name": "stderr",
     "output_type": "stream",
     "text": [
      "\r",
      "Percentage training completed:  52%|█████▏    | 155/300 [10:35<09:34,  3.96s/it]"
     ]
    },
    {
     "name": "stdout",
     "output_type": "stream",
     "text": [
      "Training Loss after epoch 155 is 0.12328295238931257 and Accuracy is 97.0189701897019\n",
      "Validation Loss after epoch 155 is 0.10466218739748001 and Accuracy is 95.67567567567568\n"
     ]
    },
    {
     "name": "stderr",
     "output_type": "stream",
     "text": [
      "\r",
      "Percentage training completed:  52%|█████▏    | 156/300 [10:39<09:31,  3.97s/it]"
     ]
    },
    {
     "name": "stdout",
     "output_type": "stream",
     "text": [
      "Training Loss after epoch 156 is 0.12315624222774584 and Accuracy is 97.0189701897019\n",
      "Validation Loss after epoch 156 is 0.10467418283224106 and Accuracy is 95.67567567567568\n"
     ]
    },
    {
     "name": "stderr",
     "output_type": "stream",
     "text": [
      "\r",
      "Percentage training completed:  52%|█████▏    | 157/300 [10:43<09:26,  3.96s/it]"
     ]
    },
    {
     "name": "stdout",
     "output_type": "stream",
     "text": [
      "Training Loss after epoch 157 is 0.12302985756341893 and Accuracy is 97.0189701897019\n",
      "Validation Loss after epoch 157 is 0.1046871766448021 and Accuracy is 95.67567567567568\n"
     ]
    },
    {
     "name": "stderr",
     "output_type": "stream",
     "text": [
      "\r",
      "Percentage training completed:  53%|█████▎    | 158/300 [10:47<09:21,  3.95s/it]"
     ]
    },
    {
     "name": "stdout",
     "output_type": "stream",
     "text": [
      "Training Loss after epoch 158 is 0.12290380584691245 and Accuracy is 97.0189701897019\n",
      "Validation Loss after epoch 158 is 0.1047012209892273 and Accuracy is 95.67567567567568\n"
     ]
    },
    {
     "name": "stderr",
     "output_type": "stream",
     "text": [
      "\r",
      "Percentage training completed:  53%|█████▎    | 159/300 [10:51<09:17,  3.96s/it]"
     ]
    },
    {
     "name": "stdout",
     "output_type": "stream",
     "text": [
      "Training Loss after epoch 159 is 0.12277806860699532 and Accuracy is 97.0189701897019\n",
      "Validation Loss after epoch 159 is 0.1047162413597107 and Accuracy is 95.67567567567568\n"
     ]
    },
    {
     "name": "stderr",
     "output_type": "stream",
     "text": [
      "\r",
      "Percentage training completed:  53%|█████▎    | 160/300 [10:55<09:12,  3.95s/it]"
     ]
    },
    {
     "name": "stdout",
     "output_type": "stream",
     "text": [
      "Training Loss after epoch 160 is 0.12265260424459257 and Accuracy is 97.0189701897019\n",
      "Validation Loss after epoch 160 is 0.10473230481147766 and Accuracy is 95.13513513513513\n"
     ]
    },
    {
     "name": "stderr",
     "output_type": "stream",
     "text": [
      "\r",
      "Percentage training completed:  54%|█████▎    | 161/300 [10:59<09:09,  3.95s/it]"
     ]
    },
    {
     "name": "stdout",
     "output_type": "stream",
     "text": [
      "Training Loss after epoch 161 is 0.12252743061005351 and Accuracy is 97.0189701897019\n",
      "Validation Loss after epoch 161 is 0.10474937409162521 and Accuracy is 95.13513513513513\n"
     ]
    },
    {
     "name": "stderr",
     "output_type": "stream",
     "text": [
      "\r",
      "Percentage training completed:  54%|█████▍    | 162/300 [11:03<09:04,  3.95s/it]"
     ]
    },
    {
     "name": "stdout",
     "output_type": "stream",
     "text": [
      "Training Loss after epoch 162 is 0.12240250160291073 and Accuracy is 97.0189701897019\n",
      "Validation Loss after epoch 162 is 0.10476741194725037 and Accuracy is 95.13513513513513\n"
     ]
    },
    {
     "name": "stderr",
     "output_type": "stream",
     "text": [
      "\r",
      "Percentage training completed:  54%|█████▍    | 163/300 [11:07<09:03,  3.96s/it]"
     ]
    },
    {
     "name": "stdout",
     "output_type": "stream",
     "text": [
      "Training Loss after epoch 163 is 0.1222777861790784 and Accuracy is 97.0189701897019\n",
      "Validation Loss after epoch 163 is 0.1047864779829979 and Accuracy is 95.13513513513513\n"
     ]
    },
    {
     "name": "stderr",
     "output_type": "stream",
     "text": [
      "\r",
      "Percentage training completed:  55%|█████▍    | 164/300 [11:11<08:58,  3.96s/it]"
     ]
    },
    {
     "name": "stdout",
     "output_type": "stream",
     "text": [
      "Training Loss after epoch 164 is 0.12215332811071751 and Accuracy is 97.0189701897019\n",
      "Validation Loss after epoch 164 is 0.10480651259422302 and Accuracy is 95.13513513513513\n"
     ]
    },
    {
     "name": "stderr",
     "output_type": "stream",
     "text": [
      "\r",
      "Percentage training completed:  55%|█████▌    | 165/300 [11:15<09:02,  4.02s/it]"
     ]
    },
    {
     "name": "stdout",
     "output_type": "stream",
     "text": [
      "Training Loss after epoch 165 is 0.12202906391267258 and Accuracy is 97.0189701897019\n",
      "Validation Loss after epoch 165 is 0.10482755303382874 and Accuracy is 95.13513513513513\n"
     ]
    },
    {
     "name": "stderr",
     "output_type": "stream",
     "text": [
      "\r",
      "Percentage training completed:  55%|█████▌    | 166/300 [11:19<08:55,  4.00s/it]"
     ]
    },
    {
     "name": "stdout",
     "output_type": "stream",
     "text": [
      "Training Loss after epoch 166 is 0.12190498566870171 and Accuracy is 97.0189701897019\n",
      "Validation Loss after epoch 166 is 0.10484956949949265 and Accuracy is 95.13513513513513\n"
     ]
    },
    {
     "name": "stderr",
     "output_type": "stream",
     "text": [
      "\r",
      "Percentage training completed:  56%|█████▌    | 167/300 [11:23<08:59,  4.05s/it]"
     ]
    },
    {
     "name": "stdout",
     "output_type": "stream",
     "text": [
      "Training Loss after epoch 167 is 0.12178109105049846 and Accuracy is 97.0189701897019\n",
      "Validation Loss after epoch 167 is 0.10487260669469833 and Accuracy is 95.13513513513513\n"
     ]
    },
    {
     "name": "stderr",
     "output_type": "stream",
     "text": [
      "\r",
      "Percentage training completed:  56%|█████▌    | 168/300 [11:27<08:57,  4.07s/it]"
     ]
    },
    {
     "name": "stdout",
     "output_type": "stream",
     "text": [
      "Training Loss after epoch 168 is 0.12165732355782666 and Accuracy is 97.0189701897019\n",
      "Validation Loss after epoch 168 is 0.10489657521247864 and Accuracy is 95.13513513513513\n"
     ]
    },
    {
     "name": "stderr",
     "output_type": "stream",
     "text": [
      "\r",
      "Percentage training completed:  56%|█████▋    | 169/300 [11:31<08:46,  4.02s/it]"
     ]
    },
    {
     "name": "stdout",
     "output_type": "stream",
     "text": [
      "Training Loss after epoch 169 is 0.12153371609741725 and Accuracy is 97.0189701897019\n",
      "Validation Loss after epoch 169 is 0.10492154210805893 and Accuracy is 95.13513513513513\n"
     ]
    },
    {
     "name": "stderr",
     "output_type": "stream",
     "text": [
      "\r",
      "Percentage training completed:  57%|█████▋    | 170/300 [11:35<08:41,  4.01s/it]"
     ]
    },
    {
     "name": "stdout",
     "output_type": "stream",
     "text": [
      "Training Loss after epoch 170 is 0.12141023079548556 and Accuracy is 97.15447154471545\n",
      "Validation Loss after epoch 170 is 0.10494747757911682 and Accuracy is 95.13513513513513\n"
     ]
    },
    {
     "name": "stderr",
     "output_type": "stream",
     "text": [
      "\r",
      "Percentage training completed:  57%|█████▋    | 171/300 [11:39<08:34,  3.99s/it]"
     ]
    },
    {
     "name": "stdout",
     "output_type": "stream",
     "text": [
      "Training Loss after epoch 171 is 0.12128686237453697 and Accuracy is 97.15447154471545\n",
      "Validation Loss after epoch 171 is 0.1049744263291359 and Accuracy is 95.13513513513513\n"
     ]
    },
    {
     "name": "stderr",
     "output_type": "stream",
     "text": [
      "\r",
      "Percentage training completed:  57%|█████▋    | 172/300 [11:43<08:32,  4.01s/it]"
     ]
    },
    {
     "name": "stdout",
     "output_type": "stream",
     "text": [
      "Training Loss after epoch 172 is 0.12116361673295255 and Accuracy is 97.15447154471545\n",
      "Validation Loss after epoch 172 is 0.10500231385231018 and Accuracy is 95.13513513513513\n"
     ]
    },
    {
     "name": "stderr",
     "output_type": "stream",
     "text": [
      "\r",
      "Percentage training completed:  58%|█████▊    | 173/300 [11:47<08:32,  4.03s/it]"
     ]
    },
    {
     "name": "stdout",
     "output_type": "stream",
     "text": [
      "Training Loss after epoch 173 is 0.1210404292990243 and Accuracy is 97.15447154471545\n",
      "Validation Loss after epoch 173 is 0.10503119230270386 and Accuracy is 95.13513513513513\n"
     ]
    },
    {
     "name": "stderr",
     "output_type": "stream",
     "text": [
      "\r",
      "Percentage training completed:  58%|█████▊    | 174/300 [11:51<08:32,  4.07s/it]"
     ]
    },
    {
     "name": "stdout",
     "output_type": "stream",
     "text": [
      "Training Loss after epoch 174 is 0.12091735331336413 and Accuracy is 97.15447154471545\n",
      "Validation Loss after epoch 174 is 0.10506104677915573 and Accuracy is 95.13513513513513\n"
     ]
    },
    {
     "name": "stderr",
     "output_type": "stream",
     "text": [
      "\r",
      "Percentage training completed:  58%|█████▊    | 175/300 [11:56<08:31,  4.10s/it]"
     ]
    },
    {
     "name": "stdout",
     "output_type": "stream",
     "text": [
      "Training Loss after epoch 175 is 0.12079431923721984 and Accuracy is 97.15447154471545\n",
      "Validation Loss after epoch 175 is 0.1050918698310852 and Accuracy is 95.13513513513513\n"
     ]
    },
    {
     "name": "stderr",
     "output_type": "stream",
     "text": [
      "\r",
      "Percentage training completed:  59%|█████▊    | 176/300 [12:00<08:30,  4.12s/it]"
     ]
    },
    {
     "name": "stdout",
     "output_type": "stream",
     "text": [
      "Training Loss after epoch 176 is 0.120671341661307 and Accuracy is 97.15447154471545\n",
      "Validation Loss after epoch 176 is 0.10512366890907288 and Accuracy is 95.13513513513513\n"
     ]
    },
    {
     "name": "stderr",
     "output_type": "stream",
     "text": [
      "\r",
      "Percentage training completed:  59%|█████▉    | 177/300 [12:04<08:27,  4.13s/it]"
     ]
    },
    {
     "name": "stdout",
     "output_type": "stream",
     "text": [
      "Training Loss after epoch 177 is 0.12054842632879097 and Accuracy is 97.15447154471545\n",
      "Validation Loss after epoch 177 is 0.10515648126602173 and Accuracy is 95.13513513513513\n"
     ]
    },
    {
     "name": "stderr",
     "output_type": "stream",
     "text": [
      "\r",
      "Percentage training completed:  59%|█████▉    | 178/300 [12:08<08:30,  4.18s/it]"
     ]
    },
    {
     "name": "stdout",
     "output_type": "stream",
     "text": [
      "Training Loss after epoch 178 is 0.12042551704987166 and Accuracy is 97.15447154471545\n",
      "Validation Loss after epoch 178 is 0.10519025474786758 and Accuracy is 95.13513513513513\n"
     ]
    },
    {
     "name": "stderr",
     "output_type": "stream",
     "text": [
      "\r",
      "Percentage training completed:  60%|█████▉    | 179/300 [12:12<08:25,  4.18s/it]"
     ]
    },
    {
     "name": "stdout",
     "output_type": "stream",
     "text": [
      "Training Loss after epoch 179 is 0.12030266271898427 and Accuracy is 97.15447154471545\n",
      "Validation Loss after epoch 179 is 0.10522503405809402 and Accuracy is 95.13513513513513\n"
     ]
    },
    {
     "name": "stderr",
     "output_type": "stream",
     "text": [
      "\r",
      "Percentage training completed:  60%|██████    | 180/300 [12:17<08:20,  4.17s/it]"
     ]
    },
    {
     "name": "stdout",
     "output_type": "stream",
     "text": [
      "Training Loss after epoch 180 is 0.12017979938531198 and Accuracy is 97.15447154471545\n",
      "Validation Loss after epoch 180 is 0.10526078194379807 and Accuracy is 95.13513513513513\n"
     ]
    },
    {
     "name": "stderr",
     "output_type": "stream",
     "text": [
      "\r",
      "Percentage training completed:  60%|██████    | 181/300 [12:21<08:18,  4.19s/it]"
     ]
    },
    {
     "name": "stdout",
     "output_type": "stream",
     "text": [
      "Training Loss after epoch 181 is 0.12005692875627953 and Accuracy is 97.15447154471545\n",
      "Validation Loss after epoch 181 is 0.10529754310846329 and Accuracy is 95.13513513513513\n"
     ]
    },
    {
     "name": "stderr",
     "output_type": "stream",
     "text": [
      "\r",
      "Percentage training completed:  61%|██████    | 182/300 [12:25<08:19,  4.23s/it]"
     ]
    },
    {
     "name": "stdout",
     "output_type": "stream",
     "text": [
      "Training Loss after epoch 182 is 0.11993408746390817 and Accuracy is 97.15447154471545\n",
      "Validation Loss after epoch 182 is 0.1053352952003479 and Accuracy is 95.13513513513513\n"
     ]
    },
    {
     "name": "stderr",
     "output_type": "stream",
     "text": [
      "\r",
      "Percentage training completed:  61%|██████    | 183/300 [12:29<08:13,  4.21s/it]"
     ]
    },
    {
     "name": "stdout",
     "output_type": "stream",
     "text": [
      "Training Loss after epoch 183 is 0.11981125222513356 and Accuracy is 97.15447154471545\n",
      "Validation Loss after epoch 183 is 0.10537409037351608 and Accuracy is 95.13513513513513\n"
     ]
    },
    {
     "name": "stderr",
     "output_type": "stream",
     "text": [
      "\r",
      "Percentage training completed:  61%|██████▏   | 184/300 [12:33<08:07,  4.20s/it]"
     ]
    },
    {
     "name": "stdout",
     "output_type": "stream",
     "text": [
      "Training Loss after epoch 184 is 0.11968841093276221 and Accuracy is 97.15447154471545\n",
      "Validation Loss after epoch 184 is 0.10541385412216187 and Accuracy is 95.13513513513513\n"
     ]
    },
    {
     "name": "stderr",
     "output_type": "stream",
     "text": [
      "\r",
      "Percentage training completed:  62%|██████▏   | 185/300 [12:38<07:58,  4.16s/it]"
     ]
    },
    {
     "name": "stdout",
     "output_type": "stream",
     "text": [
      "Training Loss after epoch 185 is 0.11956553145616529 and Accuracy is 97.15447154471545\n",
      "Validation Loss after epoch 185 is 0.10545467585325241 and Accuracy is 95.13513513513513\n"
     ]
    },
    {
     "name": "stderr",
     "output_type": "stream",
     "text": [
      "\r",
      "Percentage training completed:  62%|██████▏   | 186/300 [12:41<07:46,  4.09s/it]"
     ]
    },
    {
     "name": "stdout",
     "output_type": "stream",
     "text": [
      "Training Loss after epoch 186 is 0.11944263304267604 and Accuracy is 97.15447154471545\n",
      "Validation Loss after epoch 186 is 0.10549647361040115 and Accuracy is 95.13513513513513\n"
     ]
    },
    {
     "name": "stderr",
     "output_type": "stream",
     "text": [
      "\r",
      "Percentage training completed:  62%|██████▏   | 187/300 [12:45<07:36,  4.04s/it]"
     ]
    },
    {
     "name": "stdout",
     "output_type": "stream",
     "text": [
      "Training Loss after epoch 187 is 0.11931974502895552 and Accuracy is 97.15447154471545\n",
      "Validation Loss after epoch 187 is 0.10553940385580063 and Accuracy is 95.13513513513513\n"
     ]
    },
    {
     "name": "stderr",
     "output_type": "stream",
     "text": [
      "\r",
      "Percentage training completed:  63%|██████▎   | 188/300 [12:49<07:27,  4.00s/it]"
     ]
    },
    {
     "name": "stdout",
     "output_type": "stream",
     "text": [
      "Training Loss after epoch 188 is 0.11919680408506868 and Accuracy is 97.15447154471545\n",
      "Validation Loss after epoch 188 is 0.10558328777551651 and Accuracy is 95.13513513513513\n"
     ]
    },
    {
     "name": "stderr",
     "output_type": "stream",
     "text": [
      "\r",
      "Percentage training completed:  63%|██████▎   | 189/300 [12:53<07:20,  3.97s/it]"
     ]
    },
    {
     "name": "stdout",
     "output_type": "stream",
     "text": [
      "Training Loss after epoch 189 is 0.1190738463773755 and Accuracy is 97.15447154471545\n",
      "Validation Loss after epoch 189 is 0.10562825947999954 and Accuracy is 95.13513513513513\n"
     ]
    },
    {
     "name": "stderr",
     "output_type": "stream",
     "text": [
      "\r",
      "Percentage training completed:  63%|██████▎   | 190/300 [12:57<07:15,  3.96s/it]"
     ]
    },
    {
     "name": "stdout",
     "output_type": "stream",
     "text": [
      "Training Loss after epoch 190 is 0.1189508832369673 and Accuracy is 97.15447154471545\n",
      "Validation Loss after epoch 190 is 0.10567432641983032 and Accuracy is 95.13513513513513\n"
     ]
    },
    {
     "name": "stderr",
     "output_type": "stream",
     "text": [
      "\r",
      "Percentage training completed:  64%|██████▎   | 191/300 [13:01<07:10,  3.95s/it]"
     ]
    },
    {
     "name": "stdout",
     "output_type": "stream",
     "text": [
      "Training Loss after epoch 191 is 0.11882785211001116 and Accuracy is 97.15447154471545\n",
      "Validation Loss after epoch 191 is 0.10572146624326706 and Accuracy is 95.13513513513513\n"
     ]
    },
    {
     "name": "stderr",
     "output_type": "stream",
     "text": [
      "\r",
      "Percentage training completed:  64%|██████▍   | 192/300 [13:05<07:06,  3.95s/it]"
     ]
    },
    {
     "name": "stdout",
     "output_type": "stream",
     "text": [
      "Training Loss after epoch 192 is 0.1187048385229635 and Accuracy is 97.15447154471545\n",
      "Validation Loss after epoch 192 is 0.10576970130205154 and Accuracy is 95.13513513513513\n"
     ]
    },
    {
     "name": "stderr",
     "output_type": "stream",
     "text": [
      "\r",
      "Percentage training completed:  64%|██████▍   | 193/300 [13:09<07:04,  3.97s/it]"
     ]
    },
    {
     "name": "stdout",
     "output_type": "stream",
     "text": [
      "Training Loss after epoch 193 is 0.11858178861433544 and Accuracy is 97.15447154471545\n",
      "Validation Loss after epoch 193 is 0.10581903904676437 and Accuracy is 95.13513513513513\n"
     ]
    },
    {
     "name": "stderr",
     "output_type": "stream",
     "text": [
      "\r",
      "Percentage training completed:  65%|██████▍   | 194/300 [13:13<06:58,  3.95s/it]"
     ]
    },
    {
     "name": "stdout",
     "output_type": "stream",
     "text": [
      "Training Loss after epoch 194 is 0.11845871123169142 and Accuracy is 97.15447154471545\n",
      "Validation Loss after epoch 194 is 0.10586950927972794 and Accuracy is 95.13513513513513\n"
     ]
    },
    {
     "name": "stderr",
     "output_type": "stream",
     "text": [
      "\r",
      "Percentage training completed:  65%|██████▌   | 195/300 [13:17<06:53,  3.94s/it]"
     ]
    },
    {
     "name": "stdout",
     "output_type": "stream",
     "text": [
      "Training Loss after epoch 195 is 0.11833564937109031 and Accuracy is 97.15447154471545\n",
      "Validation Loss after epoch 195 is 0.10592109709978104 and Accuracy is 95.13513513513513\n"
     ]
    },
    {
     "name": "stderr",
     "output_type": "stream",
     "text": [
      "\r",
      "Percentage training completed:  65%|██████▌   | 196/300 [13:21<06:49,  3.94s/it]"
     ]
    },
    {
     "name": "stdout",
     "output_type": "stream",
     "text": [
      "Training Loss after epoch 196 is 0.1182125629856614 and Accuracy is 97.15447154471545\n",
      "Validation Loss after epoch 196 is 0.10597386956214905 and Accuracy is 95.13513513513513\n"
     ]
    },
    {
     "name": "stderr",
     "output_type": "stream",
     "text": [
      "\r",
      "Percentage training completed:  66%|██████▌   | 197/300 [13:25<06:47,  3.96s/it]"
     ]
    },
    {
     "name": "stdout",
     "output_type": "stream",
     "text": [
      "Training Loss after epoch 197 is 0.11808945502459285 and Accuracy is 97.15447154471545\n",
      "Validation Loss after epoch 197 is 0.10602778196334839 and Accuracy is 95.13513513513513\n"
     ]
    },
    {
     "name": "stderr",
     "output_type": "stream",
     "text": [
      "\r",
      "Percentage training completed:  66%|██████▌   | 198/300 [13:29<06:45,  3.97s/it]"
     ]
    },
    {
     "name": "stdout",
     "output_type": "stream",
     "text": [
      "Training Loss after epoch 198 is 0.11796634473521787 and Accuracy is 97.15447154471545\n",
      "Validation Loss after epoch 198 is 0.10608289390802383 and Accuracy is 95.13513513513513\n"
     ]
    },
    {
     "name": "stderr",
     "output_type": "stream",
     "text": [
      "\r",
      "Percentage training completed:  66%|██████▋   | 199/300 [13:33<06:42,  3.98s/it]"
     ]
    },
    {
     "name": "stdout",
     "output_type": "stream",
     "text": [
      "Training Loss after epoch 199 is 0.11784327588969745 and Accuracy is 97.15447154471545\n",
      "Validation Loss after epoch 199 is 0.1061391830444336 and Accuracy is 95.13513513513513\n"
     ]
    },
    {
     "name": "stderr",
     "output_type": "stream",
     "text": [
      "\r",
      "Percentage training completed:  67%|██████▋   | 200/300 [13:37<06:39,  3.99s/it]"
     ]
    },
    {
     "name": "stdout",
     "output_type": "stream",
     "text": [
      "Training Loss after epoch 200 is 0.11772016560032246 and Accuracy is 97.15447154471545\n",
      "Validation Loss after epoch 200 is 0.10619672387838364 and Accuracy is 95.13513513513513\n"
     ]
    },
    {
     "name": "stderr",
     "output_type": "stream",
     "text": [
      "\r",
      "Percentage training completed:  67%|██████▋   | 201/300 [13:41<06:33,  3.98s/it]"
     ]
    },
    {
     "name": "stdout",
     "output_type": "stream",
     "text": [
      "Training Loss after epoch 201 is 0.11759710529192564 and Accuracy is 97.15447154471545\n",
      "Validation Loss after epoch 201 is 0.10625547170639038 and Accuracy is 95.13513513513513\n"
     ]
    },
    {
     "name": "stderr",
     "output_type": "stream",
     "text": [
      "\r",
      "Percentage training completed:  67%|██████▋   | 202/300 [13:45<06:28,  3.96s/it]"
     ]
    },
    {
     "name": "stdout",
     "output_type": "stream",
     "text": [
      "Training Loss after epoch 202 is 0.11747404808793742 and Accuracy is 97.15447154471545\n",
      "Validation Loss after epoch 202 is 0.10631551593542099 and Accuracy is 95.13513513513513\n"
     ]
    },
    {
     "name": "stderr",
     "output_type": "stream",
     "text": [
      "\r",
      "Percentage training completed:  68%|██████▊   | 203/300 [13:49<06:23,  3.95s/it]"
     ]
    },
    {
     "name": "stdout",
     "output_type": "stream",
     "text": [
      "Training Loss after epoch 203 is 0.11735101556398793 and Accuracy is 97.15447154471545\n",
      "Validation Loss after epoch 203 is 0.10637681931257248 and Accuracy is 95.13513513513513\n"
     ]
    },
    {
     "name": "stderr",
     "output_type": "stream",
     "text": [
      "\r",
      "Percentage training completed:  68%|██████▊   | 204/300 [13:53<06:19,  3.95s/it]"
     ]
    },
    {
     "name": "stdout",
     "output_type": "stream",
     "text": [
      "Training Loss after epoch 204 is 0.11722802153471434 and Accuracy is 97.15447154471545\n",
      "Validation Loss after epoch 204 is 0.10643941164016724 and Accuracy is 95.13513513513513\n"
     ]
    },
    {
     "name": "stderr",
     "output_type": "stream",
     "text": [
      "\r",
      "Percentage training completed:  68%|██████▊   | 205/300 [13:56<06:15,  3.95s/it]"
     ]
    },
    {
     "name": "stdout",
     "output_type": "stream",
     "text": [
      "Training Loss after epoch 205 is 0.11710506382702117 and Accuracy is 97.15447154471545\n",
      "Validation Loss after epoch 205 is 0.10650328546762466 and Accuracy is 95.13513513513513\n"
     ]
    },
    {
     "name": "stderr",
     "output_type": "stream",
     "text": [
      "\r",
      "Percentage training completed:  69%|██████▊   | 206/300 [14:00<06:11,  3.95s/it]"
     ]
    },
    {
     "name": "stdout",
     "output_type": "stream",
     "text": [
      "Training Loss after epoch 206 is 0.11698213250680094 and Accuracy is 97.15447154471545\n",
      "Validation Loss after epoch 206 is 0.10656851530075073 and Accuracy is 95.13513513513513\n"
     ]
    },
    {
     "name": "stderr",
     "output_type": "stream",
     "text": [
      "\r",
      "Percentage training completed:  69%|██████▉   | 207/300 [14:04<06:07,  3.95s/it]"
     ]
    },
    {
     "name": "stdout",
     "output_type": "stream",
     "text": [
      "Training Loss after epoch 207 is 0.11685925520329003 and Accuracy is 97.289972899729\n",
      "Validation Loss after epoch 207 is 0.10663511604070663 and Accuracy is 95.13513513513513\n"
     ]
    },
    {
     "name": "stderr",
     "output_type": "stream",
     "text": [
      "\r",
      "Percentage training completed:  69%|██████▉   | 208/300 [14:08<06:06,  3.98s/it]"
     ]
    },
    {
     "name": "stdout",
     "output_type": "stream",
     "text": [
      "Training Loss after epoch 208 is 0.11673642244804228 and Accuracy is 97.289972899729\n",
      "Validation Loss after epoch 208 is 0.106703020632267 and Accuracy is 95.13513513513513\n"
     ]
    },
    {
     "name": "stderr",
     "output_type": "stream",
     "text": [
      "\r",
      "Percentage training completed:  70%|██████▉   | 209/300 [14:12<06:01,  3.97s/it]"
     ]
    },
    {
     "name": "stdout",
     "output_type": "stream",
     "text": [
      "Training Loss after epoch 209 is 0.11661362539349322 and Accuracy is 97.289972899729\n",
      "Validation Loss after epoch 209 is 0.10677232593297958 and Accuracy is 95.13513513513513\n"
     ]
    },
    {
     "name": "stderr",
     "output_type": "stream",
     "text": [
      "\r",
      "Percentage training completed:  70%|███████   | 210/300 [14:16<05:55,  3.95s/it]"
     ]
    },
    {
     "name": "stdout",
     "output_type": "stream",
     "text": [
      "Training Loss after epoch 210 is 0.11649088965101366 and Accuracy is 97.289972899729\n",
      "Validation Loss after epoch 210 is 0.10684304684400558 and Accuracy is 95.13513513513513\n"
     ]
    },
    {
     "name": "stderr",
     "output_type": "stream",
     "text": [
      "\r",
      "Percentage training completed:  70%|███████   | 211/300 [14:21<06:00,  4.05s/it]"
     ]
    },
    {
     "name": "stdout",
     "output_type": "stream",
     "text": [
      "Training Loss after epoch 211 is 0.11636819923289939 and Accuracy is 97.289972899729\n",
      "Validation Loss after epoch 211 is 0.10691515356302261 and Accuracy is 95.13513513513513\n"
     ]
    },
    {
     "name": "stderr",
     "output_type": "stream",
     "text": [
      "\r",
      "Percentage training completed:  71%|███████   | 212/300 [14:25<05:58,  4.07s/it]"
     ]
    },
    {
     "name": "stdout",
     "output_type": "stream",
     "text": [
      "Training Loss after epoch 212 is 0.11624552899344091 and Accuracy is 97.289972899729\n",
      "Validation Loss after epoch 212 is 0.10698869079351425 and Accuracy is 95.13513513513513\n"
     ]
    },
    {
     "name": "stderr",
     "output_type": "stream",
     "text": [
      "\r",
      "Percentage training completed:  71%|███████   | 213/300 [14:29<05:57,  4.11s/it]"
     ]
    },
    {
     "name": "stdout",
     "output_type": "stream",
     "text": [
      "Training Loss after epoch 213 is 0.11612291277069176 and Accuracy is 97.289972899729\n",
      "Validation Loss after epoch 213 is 0.10706368088722229 and Accuracy is 95.13513513513513\n"
     ]
    },
    {
     "name": "stderr",
     "output_type": "stream",
     "text": [
      "\r",
      "Percentage training completed:  71%|███████▏  | 214/300 [14:33<05:53,  4.11s/it]"
     ]
    },
    {
     "name": "stdout",
     "output_type": "stream",
     "text": [
      "Training Loss after epoch 214 is 0.1160003381470176 and Accuracy is 97.289972899729\n",
      "Validation Loss after epoch 214 is 0.10714006423950195 and Accuracy is 95.13513513513513\n"
     ]
    },
    {
     "name": "stderr",
     "output_type": "stream",
     "text": [
      "\r",
      "Percentage training completed:  72%|███████▏  | 215/300 [14:37<05:52,  4.15s/it]"
     ]
    },
    {
     "name": "stdout",
     "output_type": "stream",
     "text": [
      "Training Loss after epoch 215 is 0.11587778013192936 and Accuracy is 97.289972899729\n",
      "Validation Loss after epoch 215 is 0.10721797496080399 and Accuracy is 95.13513513513513\n"
     ]
    },
    {
     "name": "stderr",
     "output_type": "stream",
     "text": [
      "\r",
      "Percentage training completed:  72%|███████▏  | 216/300 [14:41<05:50,  4.17s/it]"
     ]
    },
    {
     "name": "stdout",
     "output_type": "stream",
     "text": [
      "Training Loss after epoch 216 is 0.11575526185326623 and Accuracy is 97.289972899729\n",
      "Validation Loss after epoch 216 is 0.10729730129241943 and Accuracy is 95.13513513513513\n"
     ]
    },
    {
     "name": "stderr",
     "output_type": "stream",
     "text": [
      "\r",
      "Percentage training completed:  72%|███████▏  | 217/300 [14:46<05:45,  4.16s/it]"
     ]
    },
    {
     "name": "stdout",
     "output_type": "stream",
     "text": [
      "Training Loss after epoch 217 is 0.1156327182736779 and Accuracy is 97.289972899729\n",
      "Validation Loss after epoch 217 is 0.10737815499305725 and Accuracy is 95.13513513513513\n"
     ]
    },
    {
     "name": "stderr",
     "output_type": "stream",
     "text": [
      "\r",
      "Percentage training completed:  73%|███████▎  | 218/300 [14:50<05:40,  4.15s/it]"
     ]
    },
    {
     "name": "stdout",
     "output_type": "stream",
     "text": [
      "Training Loss after epoch 218 is 0.11551017624629385 and Accuracy is 97.289972899729\n",
      "Validation Loss after epoch 218 is 0.10746046900749207 and Accuracy is 95.13513513513513\n"
     ]
    },
    {
     "name": "stderr",
     "output_type": "stream",
     "text": [
      "\r",
      "Percentage training completed:  73%|███████▎  | 219/300 [14:54<05:35,  4.14s/it]"
     ]
    },
    {
     "name": "stdout",
     "output_type": "stream",
     "text": [
      "Training Loss after epoch 219 is 0.11538760596879172 and Accuracy is 97.289972899729\n",
      "Validation Loss after epoch 219 is 0.10754429548978806 and Accuracy is 95.13513513513513\n"
     ]
    },
    {
     "name": "stderr",
     "output_type": "stream",
     "text": [
      "\r",
      "Percentage training completed:  73%|███████▎  | 220/300 [14:58<05:31,  4.14s/it]"
     ]
    },
    {
     "name": "stdout",
     "output_type": "stream",
     "text": [
      "Training Loss after epoch 220 is 0.11526501690961766 and Accuracy is 97.42547425474255\n",
      "Validation Loss after epoch 220 is 0.10762960463762283 and Accuracy is 95.13513513513513\n"
     ]
    },
    {
     "name": "stderr",
     "output_type": "stream",
     "text": [
      "\r",
      "Percentage training completed:  74%|███████▎  | 221/300 [15:02<05:27,  4.15s/it]"
     ]
    },
    {
     "name": "stdout",
     "output_type": "stream",
     "text": [
      "Training Loss after epoch 221 is 0.11514231842004108 and Accuracy is 97.42547425474255\n",
      "Validation Loss after epoch 221 is 0.10771641135215759 and Accuracy is 95.13513513513513\n"
     ]
    },
    {
     "name": "stderr",
     "output_type": "stream",
     "text": [
      "\r",
      "Percentage training completed:  74%|███████▍  | 222/300 [15:06<05:23,  4.15s/it]"
     ]
    },
    {
     "name": "stdout",
     "output_type": "stream",
     "text": [
      "Training Loss after epoch 222 is 0.11501954200980909 and Accuracy is 97.42547425474255\n",
      "Validation Loss after epoch 222 is 0.10780474543571472 and Accuracy is 95.13513513513513\n"
     ]
    },
    {
     "name": "stderr",
     "output_type": "stream",
     "text": [
      "\r",
      "Percentage training completed:  74%|███████▍  | 223/300 [15:11<05:22,  4.19s/it]"
     ]
    },
    {
     "name": "stdout",
     "output_type": "stream",
     "text": [
      "Training Loss after epoch 223 is 0.11489666036012618 and Accuracy is 97.42547425474255\n",
      "Validation Loss after epoch 223 is 0.10789456218481064 and Accuracy is 95.13513513513513\n"
     ]
    },
    {
     "name": "stderr",
     "output_type": "stream",
     "text": [
      "\r",
      "Percentage training completed:  75%|███████▍  | 224/300 [15:15<05:19,  4.20s/it]"
     ]
    },
    {
     "name": "stdout",
     "output_type": "stream",
     "text": [
      "Training Loss after epoch 224 is 0.11477365639674512 and Accuracy is 97.5609756097561\n",
      "Validation Loss after epoch 224 is 0.10798589140176773 and Accuracy is 95.13513513513513\n"
     ]
    },
    {
     "name": "stderr",
     "output_type": "stream",
     "text": [
      "\r",
      "Percentage training completed:  75%|███████▌  | 225/300 [15:19<05:14,  4.20s/it]"
     ]
    },
    {
     "name": "stdout",
     "output_type": "stream",
     "text": [
      "Training Loss after epoch 225 is 0.11465046741061258 and Accuracy is 97.5609756097561\n",
      "Validation Loss after epoch 225 is 0.1080787405371666 and Accuracy is 95.13513513513513\n"
     ]
    },
    {
     "name": "stderr",
     "output_type": "stream",
     "text": [
      "\r",
      "Percentage training completed:  75%|███████▌  | 226/300 [15:23<05:10,  4.19s/it]"
     ]
    },
    {
     "name": "stdout",
     "output_type": "stream",
     "text": [
      "Training Loss after epoch 226 is 0.11452708051843292 and Accuracy is 97.5609756097561\n",
      "Validation Loss after epoch 226 is 0.10817306488752365 and Accuracy is 95.13513513513513\n"
     ]
    },
    {
     "name": "stderr",
     "output_type": "stream",
     "text": [
      "\r",
      "Percentage training completed:  76%|███████▌  | 227/300 [15:28<05:09,  4.24s/it]"
     ]
    },
    {
     "name": "stdout",
     "output_type": "stream",
     "text": [
      "Training Loss after epoch 227 is 0.11440345769120104 and Accuracy is 97.5609756097561\n",
      "Validation Loss after epoch 227 is 0.10826890915632248 and Accuracy is 95.13513513513513\n"
     ]
    },
    {
     "name": "stderr",
     "output_type": "stream",
     "text": [
      "\r",
      "Percentage training completed:  76%|███████▌  | 228/300 [15:32<05:00,  4.18s/it]"
     ]
    },
    {
     "name": "stdout",
     "output_type": "stream",
     "text": [
      "Training Loss after epoch 228 is 0.11427958433819659 and Accuracy is 97.5609756097561\n",
      "Validation Loss after epoch 228 is 0.1083662211894989 and Accuracy is 95.67567567567568\n"
     ]
    },
    {
     "name": "stderr",
     "output_type": "stream",
     "text": [
      "\r",
      "Percentage training completed:  76%|███████▋  | 229/300 [15:36<04:55,  4.16s/it]"
     ]
    },
    {
     "name": "stdout",
     "output_type": "stream",
     "text": [
      "Training Loss after epoch 229 is 0.11415538129700072 and Accuracy is 97.5609756097561\n",
      "Validation Loss after epoch 229 is 0.10846499353647232 and Accuracy is 95.67567567567568\n"
     ]
    },
    {
     "name": "stderr",
     "output_type": "stream",
     "text": [
      "\r",
      "Percentage training completed:  77%|███████▋  | 230/300 [15:40<04:45,  4.08s/it]"
     ]
    },
    {
     "name": "stdout",
     "output_type": "stream",
     "text": [
      "Training Loss after epoch 230 is 0.11403086859103932 and Accuracy is 97.69647696476964\n",
      "Validation Loss after epoch 230 is 0.10856529325246811 and Accuracy is 95.67567567567568\n"
     ]
    },
    {
     "name": "stderr",
     "output_type": "stream",
     "text": [
      "\r",
      "Percentage training completed:  77%|███████▋  | 231/300 [15:44<04:38,  4.03s/it]"
     ]
    },
    {
     "name": "stdout",
     "output_type": "stream",
     "text": [
      "Training Loss after epoch 231 is 0.1139059836664984 and Accuracy is 97.69647696476964\n",
      "Validation Loss after epoch 231 is 0.10866702347993851 and Accuracy is 95.67567567567568\n"
     ]
    },
    {
     "name": "stderr",
     "output_type": "stream",
     "text": [
      "\r",
      "Percentage training completed:  77%|███████▋  | 232/300 [15:48<04:53,  4.32s/it]"
     ]
    },
    {
     "name": "stdout",
     "output_type": "stream",
     "text": [
      "Training Loss after epoch 232 is 0.11378065962336355 and Accuracy is 97.69647696476964\n",
      "Validation Loss after epoch 232 is 0.10877018421888351 and Accuracy is 95.67567567567568\n"
     ]
    },
    {
     "name": "stderr",
     "output_type": "stream",
     "text": [
      "\r",
      "Percentage training completed:  78%|███████▊  | 233/300 [15:53<05:02,  4.52s/it]"
     ]
    },
    {
     "name": "stdout",
     "output_type": "stream",
     "text": [
      "Training Loss after epoch 233 is 0.11365490577486052 and Accuracy is 97.69647696476964\n",
      "Validation Loss after epoch 233 is 0.10887480527162552 and Accuracy is 95.67567567567568\n"
     ]
    },
    {
     "name": "stderr",
     "output_type": "stream",
     "text": [
      "\r",
      "Percentage training completed:  78%|███████▊  | 234/300 [15:57<04:46,  4.34s/it]"
     ]
    },
    {
     "name": "stdout",
     "output_type": "stream",
     "text": [
      "Training Loss after epoch 234 is 0.11352866763861869 and Accuracy is 97.69647696476964\n",
      "Validation Loss after epoch 234 is 0.10898088663816452 and Accuracy is 95.67567567567568\n"
     ]
    },
    {
     "name": "stderr",
     "output_type": "stream",
     "text": [
      "\r",
      "Percentage training completed:  78%|███████▊  | 235/300 [16:01<04:34,  4.22s/it]"
     ]
    },
    {
     "name": "stdout",
     "output_type": "stream",
     "text": [
      "Training Loss after epoch 235 is 0.11340192674340699 and Accuracy is 97.5609756097561\n",
      "Validation Loss after epoch 235 is 0.10908833891153336 and Accuracy is 95.67567567567568\n"
     ]
    },
    {
     "name": "stderr",
     "output_type": "stream",
     "text": [
      "\r",
      "Percentage training completed:  79%|███████▊  | 236/300 [16:05<04:24,  4.13s/it]"
     ]
    },
    {
     "name": "stdout",
     "output_type": "stream",
     "text": [
      "Training Loss after epoch 236 is 0.11327458483469381 and Accuracy is 97.5609756097561\n",
      "Validation Loss after epoch 236 is 0.1091972291469574 and Accuracy is 95.67567567567568\n"
     ]
    },
    {
     "name": "stderr",
     "output_type": "stream",
     "text": [
      "\r",
      "Percentage training completed:  79%|███████▉  | 237/300 [16:09<04:20,  4.13s/it]"
     ]
    },
    {
     "name": "stdout",
     "output_type": "stream",
     "text": [
      "Training Loss after epoch 237 is 0.11314666209113493 and Accuracy is 97.5609756097561\n",
      "Validation Loss after epoch 237 is 0.10930749773979187 and Accuracy is 95.67567567567568\n"
     ]
    },
    {
     "name": "stderr",
     "output_type": "stream",
     "text": [
      "\r",
      "Percentage training completed:  79%|███████▉  | 238/300 [16:13<04:12,  4.08s/it]"
     ]
    },
    {
     "name": "stdout",
     "output_type": "stream",
     "text": [
      "Training Loss after epoch 238 is 0.11301809347537055 and Accuracy is 97.5609756097561\n",
      "Validation Loss after epoch 238 is 0.10941910743713379 and Accuracy is 95.67567567567568\n"
     ]
    },
    {
     "name": "stderr",
     "output_type": "stream",
     "text": [
      "\r",
      "Percentage training completed:  80%|███████▉  | 239/300 [16:17<04:06,  4.03s/it]"
     ]
    },
    {
     "name": "stdout",
     "output_type": "stream",
     "text": [
      "Training Loss after epoch 239 is 0.11288885741176102 and Accuracy is 97.5609756097561\n",
      "Validation Loss after epoch 239 is 0.10953211039304733 and Accuracy is 95.67567567567568\n"
     ]
    },
    {
     "name": "stderr",
     "output_type": "stream",
     "text": [
      "\r",
      "Percentage training completed:  80%|████████  | 240/300 [16:21<04:00,  4.00s/it]"
     ]
    },
    {
     "name": "stdout",
     "output_type": "stream",
     "text": [
      "Training Loss after epoch 240 is 0.1127589087311615 and Accuracy is 97.5609756097561\n",
      "Validation Loss after epoch 240 is 0.10964644700288773 and Accuracy is 95.67567567567568\n"
     ]
    },
    {
     "name": "stderr",
     "output_type": "stream",
     "text": [
      "\r",
      "Percentage training completed:  80%|████████  | 241/300 [16:25<03:54,  3.97s/it]"
     ]
    },
    {
     "name": "stdout",
     "output_type": "stream",
     "text": [
      "Training Loss after epoch 241 is 0.11262821980433557 and Accuracy is 97.69647696476964\n",
      "Validation Loss after epoch 241 is 0.10976210981607437 and Accuracy is 95.67567567567568\n"
     ]
    },
    {
     "name": "stderr",
     "output_type": "stream",
     "text": [
      "\r",
      "Percentage training completed:  81%|████████  | 242/300 [16:29<03:52,  4.01s/it]"
     ]
    },
    {
     "name": "stdout",
     "output_type": "stream",
     "text": [
      "Training Loss after epoch 242 is 0.11249673226840191 and Accuracy is 97.8319783197832\n",
      "Validation Loss after epoch 242 is 0.10987913608551025 and Accuracy is 95.67567567567568\n"
     ]
    },
    {
     "name": "stderr",
     "output_type": "stream",
     "text": [
      "\r",
      "Percentage training completed:  81%|████████  | 243/300 [16:33<03:46,  3.97s/it]"
     ]
    },
    {
     "name": "stdout",
     "output_type": "stream",
     "text": [
      "Training Loss after epoch 243 is 0.11236447033774748 and Accuracy is 97.8319783197832\n",
      "Validation Loss after epoch 243 is 0.10999739170074463 and Accuracy is 96.21621621621621\n"
     ]
    },
    {
     "name": "stderr",
     "output_type": "stream",
     "text": [
      "\r",
      "Percentage training completed:  81%|████████▏ | 244/300 [16:37<03:40,  3.94s/it]"
     ]
    },
    {
     "name": "stdout",
     "output_type": "stream",
     "text": [
      "Training Loss after epoch 244 is 0.1122313532977491 and Accuracy is 97.8319783197832\n",
      "Validation Loss after epoch 244 is 0.11011701077222824 and Accuracy is 96.21621621621621\n"
     ]
    },
    {
     "name": "stderr",
     "output_type": "stream",
     "text": [
      "\r",
      "Percentage training completed:  82%|████████▏ | 245/300 [16:41<03:36,  3.94s/it]"
     ]
    },
    {
     "name": "stdout",
     "output_type": "stream",
     "text": [
      "Training Loss after epoch 245 is 0.11209739822265401 and Accuracy is 97.8319783197832\n",
      "Validation Loss after epoch 245 is 0.11023787409067154 and Accuracy is 96.21621621621621\n"
     ]
    },
    {
     "name": "stderr",
     "output_type": "stream",
     "text": [
      "\r",
      "Percentage training completed:  82%|████████▏ | 246/300 [16:45<03:32,  3.94s/it]"
     ]
    },
    {
     "name": "stdout",
     "output_type": "stream",
     "text": [
      "Training Loss after epoch 246 is 0.11196252160387132 and Accuracy is 97.8319783197832\n",
      "Validation Loss after epoch 246 is 0.11035997420549393 and Accuracy is 96.21621621621621\n"
     ]
    },
    {
     "name": "stderr",
     "output_type": "stream",
     "text": [
      "\r",
      "Percentage training completed:  82%|████████▏ | 247/300 [16:49<03:28,  3.94s/it]"
     ]
    },
    {
     "name": "stdout",
     "output_type": "stream",
     "text": [
      "Training Loss after epoch 247 is 0.11182674377527728 and Accuracy is 97.8319783197832\n",
      "Validation Loss after epoch 247 is 0.11048337072134018 and Accuracy is 96.21621621621621\n"
     ]
    },
    {
     "name": "stderr",
     "output_type": "stream",
     "text": [
      "\r",
      "Percentage training completed:  83%|████████▎ | 248/300 [16:53<03:24,  3.92s/it]"
     ]
    },
    {
     "name": "stdout",
     "output_type": "stream",
     "text": [
      "Training Loss after epoch 248 is 0.11169003524499033 and Accuracy is 97.69647696476964\n",
      "Validation Loss after epoch 248 is 0.11060798168182373 and Accuracy is 96.21621621621621\n"
     ]
    },
    {
     "name": "stderr",
     "output_type": "stream",
     "text": [
      "\r",
      "Percentage training completed:  83%|████████▎ | 249/300 [16:57<03:21,  3.95s/it]"
     ]
    },
    {
     "name": "stdout",
     "output_type": "stream",
     "text": [
      "Training Loss after epoch 249 is 0.1115523491364409 and Accuracy is 97.69647696476964\n",
      "Validation Loss after epoch 249 is 0.11073383688926697 and Accuracy is 96.21621621621621\n"
     ]
    },
    {
     "name": "stderr",
     "output_type": "stream",
     "text": [
      "\r",
      "Percentage training completed:  83%|████████▎ | 250/300 [17:01<03:20,  4.01s/it]"
     ]
    },
    {
     "name": "stdout",
     "output_type": "stream",
     "text": [
      "Training Loss after epoch 250 is 0.11141370578350518 and Accuracy is 97.8319783197832\n",
      "Validation Loss after epoch 250 is 0.1108609065413475 and Accuracy is 96.21621621621621\n"
     ]
    },
    {
     "name": "stderr",
     "output_type": "stream",
     "text": [
      "\r",
      "Percentage training completed:  84%|████████▎ | 251/300 [17:05<03:18,  4.05s/it]"
     ]
    },
    {
     "name": "stdout",
     "output_type": "stream",
     "text": [
      "Training Loss after epoch 251 is 0.11127404449499541 and Accuracy is 97.8319783197832\n",
      "Validation Loss after epoch 251 is 0.11098916083574295 and Accuracy is 96.21621621621621\n"
     ]
    },
    {
     "name": "stderr",
     "output_type": "stream",
     "text": [
      "\r",
      "Percentage training completed:  84%|████████▍ | 252/300 [17:09<03:16,  4.09s/it]"
     ]
    },
    {
     "name": "stdout",
     "output_type": "stream",
     "text": [
      "Training Loss after epoch 252 is 0.11113337893030935 and Accuracy is 97.8319783197832\n",
      "Validation Loss after epoch 252 is 0.11111857742071152 and Accuracy is 96.21621621621621\n"
     ]
    },
    {
     "name": "stderr",
     "output_type": "stream",
     "text": [
      "\r",
      "Percentage training completed:  84%|████████▍ | 253/300 [17:13<03:13,  4.11s/it]"
     ]
    },
    {
     "name": "stdout",
     "output_type": "stream",
     "text": [
      "Training Loss after epoch 253 is 0.11099161067969494 and Accuracy is 97.8319783197832\n",
      "Validation Loss after epoch 253 is 0.1112491711974144 and Accuracy is 96.21621621621621\n"
     ]
    },
    {
     "name": "stderr",
     "output_type": "stream",
     "text": [
      "\r",
      "Percentage training completed:  85%|████████▍ | 254/300 [17:17<03:09,  4.11s/it]"
     ]
    },
    {
     "name": "stdout",
     "output_type": "stream",
     "text": [
      "Training Loss after epoch 254 is 0.11084879717471097 and Accuracy is 97.8319783197832\n",
      "Validation Loss after epoch 254 is 0.11138094216585159 and Accuracy is 96.21621621621621\n"
     ]
    },
    {
     "name": "stderr",
     "output_type": "stream",
     "text": [
      "\r",
      "Percentage training completed:  85%|████████▌ | 255/300 [17:22<03:07,  4.16s/it]"
     ]
    },
    {
     "name": "stdout",
     "output_type": "stream",
     "text": [
      "Training Loss after epoch 255 is 0.11070490504296515 and Accuracy is 97.69647696476964\n",
      "Validation Loss after epoch 255 is 0.11151378601789474 and Accuracy is 96.21621621621621\n"
     ]
    },
    {
     "name": "stderr",
     "output_type": "stream",
     "text": [
      "\r",
      "Percentage training completed:  85%|████████▌ | 256/300 [17:26<03:03,  4.16s/it]"
     ]
    },
    {
     "name": "stdout",
     "output_type": "stream",
     "text": [
      "Training Loss after epoch 256 is 0.11055982407795284 and Accuracy is 97.69647696476964\n",
      "Validation Loss after epoch 256 is 0.11164767295122147 and Accuracy is 96.21621621621621\n"
     ]
    },
    {
     "name": "stderr",
     "output_type": "stream",
     "text": [
      "\r",
      "Percentage training completed:  86%|████████▌ | 257/300 [17:30<03:01,  4.21s/it]"
     ]
    },
    {
     "name": "stdout",
     "output_type": "stream",
     "text": [
      "Training Loss after epoch 257 is 0.1104135552109966 and Accuracy is 97.69647696476964\n",
      "Validation Loss after epoch 257 is 0.11178260296583176 and Accuracy is 96.21621621621621\n"
     ]
    },
    {
     "name": "stderr",
     "output_type": "stream",
     "text": [
      "\r",
      "Percentage training completed:  86%|████████▌ | 258/300 [17:34<02:57,  4.24s/it]"
     ]
    },
    {
     "name": "stdout",
     "output_type": "stream",
     "text": [
      "Training Loss after epoch 258 is 0.1102659989458014 and Accuracy is 97.69647696476964\n",
      "Validation Loss after epoch 258 is 0.11191845685243607 and Accuracy is 96.21621621621621\n"
     ]
    },
    {
     "name": "stderr",
     "output_type": "stream",
     "text": [
      "\r",
      "Percentage training completed:  86%|████████▋ | 259/300 [17:39<02:53,  4.23s/it]"
     ]
    },
    {
     "name": "stdout",
     "output_type": "stream",
     "text": [
      "Training Loss after epoch 259 is 0.11011709226287299 and Accuracy is 97.69647696476964\n",
      "Validation Loss after epoch 259 is 0.11205511540174484 and Accuracy is 96.21621621621621\n"
     ]
    },
    {
     "name": "stderr",
     "output_type": "stream",
     "text": [
      "\r",
      "Percentage training completed:  87%|████████▋ | 260/300 [17:43<02:49,  4.24s/it]"
     ]
    },
    {
     "name": "stdout",
     "output_type": "stream",
     "text": [
      "Training Loss after epoch 260 is 0.10996668102833478 and Accuracy is 97.69647696476964\n",
      "Validation Loss after epoch 260 is 0.11219239979982376 and Accuracy is 96.21621621621621\n"
     ]
    },
    {
     "name": "stderr",
     "output_type": "stream",
     "text": [
      "\r",
      "Percentage training completed:  87%|████████▋ | 261/300 [17:47<02:44,  4.21s/it]"
     ]
    },
    {
     "name": "stdout",
     "output_type": "stream",
     "text": [
      "Training Loss after epoch 261 is 0.10981453846512086 and Accuracy is 97.69647696476964\n",
      "Validation Loss after epoch 261 is 0.11233008652925491 and Accuracy is 96.21621621621621\n"
     ]
    },
    {
     "name": "stderr",
     "output_type": "stream",
     "text": [
      "\r",
      "Percentage training completed:  87%|████████▋ | 262/300 [17:51<02:36,  4.12s/it]"
     ]
    },
    {
     "name": "stdout",
     "output_type": "stream",
     "text": [
      "Training Loss after epoch 262 is 0.10966039324793068 and Accuracy is 97.69647696476964\n",
      "Validation Loss after epoch 262 is 0.11246774345636368 and Accuracy is 96.21621621621621\n"
     ]
    },
    {
     "name": "stderr",
     "output_type": "stream",
     "text": [
      "\r",
      "Percentage training completed:  88%|████████▊ | 263/300 [17:55<02:30,  4.06s/it]"
     ]
    },
    {
     "name": "stdout",
     "output_type": "stream",
     "text": [
      "Training Loss after epoch 263 is 0.10950383124865937 and Accuracy is 97.69647696476964\n",
      "Validation Loss after epoch 263 is 0.11260486394166946 and Accuracy is 96.21621621621621\n"
     ]
    },
    {
     "name": "stderr",
     "output_type": "stream",
     "text": [
      "\r",
      "Percentage training completed:  88%|████████▊ | 264/300 [17:59<02:25,  4.03s/it]"
     ]
    },
    {
     "name": "stdout",
     "output_type": "stream",
     "text": [
      "Training Loss after epoch 264 is 0.1093442331377948 and Accuracy is 97.69647696476964\n",
      "Validation Loss after epoch 264 is 0.11274069547653198 and Accuracy is 96.21621621621621\n"
     ]
    },
    {
     "name": "stderr",
     "output_type": "stream",
     "text": [
      "\r",
      "Percentage training completed:  88%|████████▊ | 265/300 [18:03<02:20,  4.01s/it]"
     ]
    },
    {
     "name": "stdout",
     "output_type": "stream",
     "text": [
      "Training Loss after epoch 265 is 0.10918072673174588 and Accuracy is 97.69647696476964\n",
      "Validation Loss after epoch 265 is 0.11287397891283035 and Accuracy is 96.21621621621621\n"
     ]
    },
    {
     "name": "stderr",
     "output_type": "stream",
     "text": [
      "\r",
      "Percentage training completed:  89%|████████▊ | 266/300 [18:07<02:16,  4.01s/it]"
     ]
    },
    {
     "name": "stdout",
     "output_type": "stream",
     "text": [
      "Training Loss after epoch 266 is 0.10901200724758553 and Accuracy is 97.69647696476964\n",
      "Validation Loss after epoch 266 is 0.11300310492515564 and Accuracy is 96.21621621621621\n"
     ]
    },
    {
     "name": "stderr",
     "output_type": "stream",
     "text": [
      "\r",
      "Percentage training completed:  89%|████████▉ | 267/300 [18:11<02:12,  4.01s/it]"
     ]
    },
    {
     "name": "stdout",
     "output_type": "stream",
     "text": [
      "Training Loss after epoch 267 is 0.10883628002671723 and Accuracy is 97.69647696476964\n",
      "Validation Loss after epoch 267 is 0.11312554031610489 and Accuracy is 96.21621621621621\n"
     ]
    },
    {
     "name": "stderr",
     "output_type": "stream",
     "text": [
      "\r",
      "Percentage training completed:  89%|████████▉ | 268/300 [18:15<02:07,  3.99s/it]"
     ]
    },
    {
     "name": "stdout",
     "output_type": "stream",
     "text": [
      "Training Loss after epoch 268 is 0.10865092448262696 and Accuracy is 97.69647696476964\n",
      "Validation Loss after epoch 268 is 0.1132378950715065 and Accuracy is 96.21621621621621\n"
     ]
    },
    {
     "name": "stderr",
     "output_type": "stream",
     "text": [
      "\r",
      "Percentage training completed:  90%|████████▉ | 269/300 [18:19<02:03,  3.98s/it]"
     ]
    },
    {
     "name": "stdout",
     "output_type": "stream",
     "text": [
      "Training Loss after epoch 269 is 0.1084524303053153 and Accuracy is 97.69647696476964\n",
      "Validation Loss after epoch 269 is 0.11333540827035904 and Accuracy is 96.21621621621621\n"
     ]
    },
    {
     "name": "stderr",
     "output_type": "stream",
     "text": [
      "\r",
      "Percentage training completed:  90%|█████████ | 270/300 [18:23<01:59,  3.97s/it]"
     ]
    },
    {
     "name": "stdout",
     "output_type": "stream",
     "text": [
      "Training Loss after epoch 270 is 0.10823607475801585 and Accuracy is 97.69647696476964\n",
      "Validation Loss after epoch 270 is 0.11341199278831482 and Accuracy is 96.21621621621621\n"
     ]
    },
    {
     "name": "stderr",
     "output_type": "stream",
     "text": [
      "\r",
      "Percentage training completed:  90%|█████████ | 271/300 [18:27<01:54,  3.95s/it]"
     ]
    },
    {
     "name": "stdout",
     "output_type": "stream",
     "text": [
      "Training Loss after epoch 271 is 0.10799575938527539 and Accuracy is 97.69647696476964\n",
      "Validation Loss after epoch 271 is 0.11345994472503662 and Accuracy is 96.21621621621621\n"
     ]
    },
    {
     "name": "stderr",
     "output_type": "stream",
     "text": [
      "\r",
      "Percentage training completed:  91%|█████████ | 272/300 [18:31<01:51,  4.00s/it]"
     ]
    },
    {
     "name": "stdout",
     "output_type": "stream",
     "text": [
      "Training Loss after epoch 272 is 0.10772447567427908 and Accuracy is 97.69647696476964\n",
      "Validation Loss after epoch 272 is 0.11347123235464096 and Accuracy is 96.21621621621621\n"
     ]
    },
    {
     "name": "stderr",
     "output_type": "stream",
     "text": [
      "\r",
      "Percentage training completed:  91%|█████████ | 273/300 [18:35<01:47,  3.98s/it]"
     ]
    },
    {
     "name": "stdout",
     "output_type": "stream",
     "text": [
      "Training Loss after epoch 273 is 0.10741507044678637 and Accuracy is 97.69647696476964\n",
      "Validation Loss after epoch 273 is 0.11343873292207718 and Accuracy is 96.21621621621621\n"
     ]
    },
    {
     "name": "stderr",
     "output_type": "stream",
     "text": [
      "\r",
      "Percentage training completed:  91%|█████████▏| 274/300 [18:39<01:43,  3.97s/it]"
     ]
    },
    {
     "name": "stdout",
     "output_type": "stream",
     "text": [
      "Training Loss after epoch 274 is 0.10706205541885083 and Accuracy is 97.69647696476964\n",
      "Validation Loss after epoch 274 is 0.11335944384336472 and Accuracy is 96.21621621621621\n"
     ]
    },
    {
     "name": "stderr",
     "output_type": "stream",
     "text": [
      "\r",
      "Percentage training completed:  92%|█████████▏| 275/300 [18:43<01:39,  3.96s/it]"
     ]
    },
    {
     "name": "stdout",
     "output_type": "stream",
     "text": [
      "Training Loss after epoch 275 is 0.10666442553819877 and Accuracy is 97.5609756097561\n",
      "Validation Loss after epoch 275 is 0.11323712021112442 and Accuracy is 95.67567567567568\n"
     ]
    },
    {
     "name": "stderr",
     "output_type": "stream",
     "text": [
      "\r",
      "Percentage training completed:  92%|█████████▏| 276/300 [18:47<01:34,  3.96s/it]"
     ]
    },
    {
     "name": "stdout",
     "output_type": "stream",
     "text": [
      "Training Loss after epoch 276 is 0.10622781980780142 and Accuracy is 97.69647696476964\n",
      "Validation Loss after epoch 276 is 0.11308377236127853 and Accuracy is 95.67567567567568\n"
     ]
    },
    {
     "name": "stderr",
     "output_type": "stream",
     "text": [
      "\r",
      "Percentage training completed:  92%|█████████▏| 277/300 [18:51<01:31,  3.97s/it]"
     ]
    },
    {
     "name": "stdout",
     "output_type": "stream",
     "text": [
      "Training Loss after epoch 277 is 0.1057655063147133 and Accuracy is 97.5609756097561\n",
      "Validation Loss after epoch 277 is 0.11291652172803879 and Accuracy is 95.67567567567568\n"
     ]
    },
    {
     "name": "stderr",
     "output_type": "stream",
     "text": [
      "\r",
      "Percentage training completed:  93%|█████████▎| 278/300 [18:55<01:27,  3.98s/it]"
     ]
    },
    {
     "name": "stdout",
     "output_type": "stream",
     "text": [
      "Training Loss after epoch 278 is 0.10529575388255807 and Accuracy is 97.8319783197832\n",
      "Validation Loss after epoch 278 is 0.11275216937065125 and Accuracy is 95.67567567567568\n"
     ]
    },
    {
     "name": "stderr",
     "output_type": "stream",
     "text": [
      "\r",
      "Percentage training completed:  93%|█████████▎| 279/300 [18:59<01:23,  3.98s/it]"
     ]
    },
    {
     "name": "stdout",
     "output_type": "stream",
     "text": [
      "Training Loss after epoch 279 is 0.10483679175375708 and Accuracy is 97.8319783197832\n",
      "Validation Loss after epoch 279 is 0.11260164529085159 and Accuracy is 95.67567567567568\n"
     ]
    },
    {
     "name": "stderr",
     "output_type": "stream",
     "text": [
      "\r",
      "Percentage training completed:  93%|█████████▎| 280/300 [19:02<01:19,  3.96s/it]"
     ]
    },
    {
     "name": "stdout",
     "output_type": "stream",
     "text": [
      "Training Loss after epoch 280 is 0.1044021338845198 and Accuracy is 97.8319783197832\n",
      "Validation Loss after epoch 280 is 0.1124691590666771 and Accuracy is 95.67567567567568\n"
     ]
    },
    {
     "name": "stderr",
     "output_type": "stream",
     "text": [
      "\r",
      "Percentage training completed:  94%|█████████▎| 281/300 [19:06<01:15,  3.95s/it]"
     ]
    },
    {
     "name": "stdout",
     "output_type": "stream",
     "text": [
      "Training Loss after epoch 281 is 0.10399910248815065 and Accuracy is 97.8319783197832\n",
      "Validation Loss after epoch 281 is 0.11235447973012924 and Accuracy is 95.67567567567568\n"
     ]
    },
    {
     "name": "stderr",
     "output_type": "stream",
     "text": [
      "\r",
      "Percentage training completed:  94%|█████████▍| 282/300 [19:10<01:11,  3.97s/it]"
     ]
    },
    {
     "name": "stdout",
     "output_type": "stream",
     "text": [
      "Training Loss after epoch 282 is 0.10363005970914448 and Accuracy is 97.96747967479675\n",
      "Validation Loss after epoch 282 is 0.11225539445877075 and Accuracy is 95.67567567567568\n"
     ]
    },
    {
     "name": "stderr",
     "output_type": "stream",
     "text": [
      "\r",
      "Percentage training completed:  94%|█████████▍| 283/300 [19:14<01:07,  3.96s/it]"
     ]
    },
    {
     "name": "stdout",
     "output_type": "stream",
     "text": [
      "Training Loss after epoch 283 is 0.10329449580360972 and Accuracy is 97.96747967479675\n",
      "Validation Loss after epoch 283 is 0.1121693029999733 and Accuracy is 95.67567567567568\n"
     ]
    },
    {
     "name": "stderr",
     "output_type": "stream",
     "text": [
      "\r",
      "Percentage training completed:  95%|█████████▍| 284/300 [19:18<01:04,  4.01s/it]"
     ]
    },
    {
     "name": "stdout",
     "output_type": "stream",
     "text": [
      "Training Loss after epoch 284 is 0.10299035922313256 and Accuracy is 97.96747967479675\n",
      "Validation Loss after epoch 284 is 0.11209353059530258 and Accuracy is 95.67567567567568\n"
     ]
    },
    {
     "name": "stderr",
     "output_type": "stream",
     "text": [
      "\r",
      "Percentage training completed:  95%|█████████▌| 285/300 [19:22<00:59,  3.99s/it]"
     ]
    },
    {
     "name": "stdout",
     "output_type": "stream",
     "text": [
      "Training Loss after epoch 285 is 0.10271496698259952 and Accuracy is 98.1029810298103\n",
      "Validation Loss after epoch 285 is 0.1120259240269661 and Accuracy is 95.67567567567568\n"
     ]
    },
    {
     "name": "stderr",
     "output_type": "stream",
     "text": [
      "\r",
      "Percentage training completed:  95%|█████████▌| 286/300 [19:26<00:55,  3.98s/it]"
     ]
    },
    {
     "name": "stdout",
     "output_type": "stream",
     "text": [
      "Training Loss after epoch 286 is 0.10246557276695611 and Accuracy is 98.1029810298103\n",
      "Validation Loss after epoch 286 is 0.11196453124284744 and Accuracy is 95.67567567567568\n"
     ]
    },
    {
     "name": "stderr",
     "output_type": "stream",
     "text": [
      "\r",
      "Percentage training completed:  96%|█████████▌| 287/300 [19:30<00:52,  4.01s/it]"
     ]
    },
    {
     "name": "stdout",
     "output_type": "stream",
     "text": [
      "Training Loss after epoch 287 is 0.10223936227460347 and Accuracy is 98.23848238482385\n",
      "Validation Loss after epoch 287 is 0.11190804839134216 and Accuracy is 95.67567567567568\n"
     ]
    },
    {
     "name": "stderr",
     "output_type": "stream",
     "text": [
      "\r",
      "Percentage training completed:  96%|█████████▌| 288/300 [19:34<00:48,  4.03s/it]"
     ]
    },
    {
     "name": "stdout",
     "output_type": "stream",
     "text": [
      "Training Loss after epoch 288 is 0.10203392865756793 and Accuracy is 98.23848238482385\n",
      "Validation Loss after epoch 288 is 0.11185520142316818 and Accuracy is 95.67567567567568\n"
     ]
    },
    {
     "name": "stderr",
     "output_type": "stream",
     "text": [
      "\r",
      "Percentage training completed:  96%|█████████▋| 289/300 [19:38<00:44,  4.01s/it]"
     ]
    },
    {
     "name": "stdout",
     "output_type": "stream",
     "text": [
      "Training Loss after epoch 289 is 0.10184693553795181 and Accuracy is 98.23848238482385\n",
      "Validation Loss after epoch 289 is 0.11180517077445984 and Accuracy is 95.67567567567568\n"
     ]
    },
    {
     "name": "stderr",
     "output_type": "stream",
     "text": [
      "\r",
      "Percentage training completed:  97%|█████████▋| 290/300 [19:42<00:39,  3.98s/it]"
     ]
    },
    {
     "name": "stdout",
     "output_type": "stream",
     "text": [
      "Training Loss after epoch 290 is 0.10167633633439503 and Accuracy is 98.23848238482385\n",
      "Validation Loss after epoch 290 is 0.11175733804702759 and Accuracy is 95.67567567567568\n"
     ]
    },
    {
     "name": "stderr",
     "output_type": "stream",
     "text": [
      "\r",
      "Percentage training completed:  97%|█████████▋| 291/300 [19:46<00:35,  3.97s/it]"
     ]
    },
    {
     "name": "stdout",
     "output_type": "stream",
     "text": [
      "Training Loss after epoch 291 is 0.10152037441730262 and Accuracy is 98.3739837398374\n",
      "Validation Loss after epoch 291 is 0.11171115189790726 and Accuracy is 95.67567567567568\n"
     ]
    },
    {
     "name": "stderr",
     "output_type": "stream",
     "text": [
      "\r",
      "Percentage training completed:  97%|█████████▋| 292/300 [19:50<00:31,  3.96s/it]"
     ]
    },
    {
     "name": "stdout",
     "output_type": "stream",
     "text": [
      "Training Loss after epoch 292 is 0.10137745862205587 and Accuracy is 98.3739837398374\n",
      "Validation Loss after epoch 292 is 0.11166632175445557 and Accuracy is 95.67567567567568\n"
     ]
    },
    {
     "name": "stderr",
     "output_type": "stream",
     "text": [
      "\r",
      "Percentage training completed:  98%|█████████▊| 293/300 [19:54<00:27,  3.98s/it]"
     ]
    },
    {
     "name": "stdout",
     "output_type": "stream",
     "text": [
      "Training Loss after epoch 293 is 0.10124618932604552 and Accuracy is 98.3739837398374\n",
      "Validation Loss after epoch 293 is 0.11162250488996506 and Accuracy is 95.67567567567568\n"
     ]
    },
    {
     "name": "stderr",
     "output_type": "stream",
     "text": [
      "\r",
      "Percentage training completed:  98%|█████████▊| 294/300 [19:58<00:23,  3.97s/it]"
     ]
    },
    {
     "name": "stdout",
     "output_type": "stream",
     "text": [
      "Training Loss after epoch 294 is 0.10112530893335503 and Accuracy is 98.3739837398374\n",
      "Validation Loss after epoch 294 is 0.1115795448422432 and Accuracy is 95.67567567567568\n"
     ]
    },
    {
     "name": "stderr",
     "output_type": "stream",
     "text": [
      "\r",
      "Percentage training completed:  98%|█████████▊| 295/300 [20:02<00:19,  3.95s/it]"
     ]
    },
    {
     "name": "stdout",
     "output_type": "stream",
     "text": [
      "Training Loss after epoch 295 is 0.10101378375353676 and Accuracy is 98.3739837398374\n",
      "Validation Loss after epoch 295 is 0.1115373745560646 and Accuracy is 95.67567567567568\n"
     ]
    },
    {
     "name": "stderr",
     "output_type": "stream",
     "text": [
      "\r",
      "Percentage training completed:  99%|█████████▊| 296/300 [20:06<00:15,  3.97s/it]"
     ]
    },
    {
     "name": "stdout",
     "output_type": "stream",
     "text": [
      "Training Loss after epoch 296 is 0.10091065592132391 and Accuracy is 98.3739837398374\n",
      "Validation Loss after epoch 296 is 0.11149581521749496 and Accuracy is 95.67567567567568\n"
     ]
    },
    {
     "name": "stderr",
     "output_type": "stream",
     "text": [
      "\r",
      "Percentage training completed:  99%|█████████▉| 297/300 [20:10<00:12,  4.04s/it]"
     ]
    },
    {
     "name": "stdout",
     "output_type": "stream",
     "text": [
      "Training Loss after epoch 297 is 0.10081503959372522 and Accuracy is 98.3739837398374\n",
      "Validation Loss after epoch 297 is 0.11145482212305069 and Accuracy is 95.67567567567568\n"
     ]
    },
    {
     "name": "stderr",
     "output_type": "stream",
     "text": [
      "\r",
      "Percentage training completed:  99%|█████████▉| 298/300 [20:14<00:08,  4.04s/it]"
     ]
    },
    {
     "name": "stdout",
     "output_type": "stream",
     "text": [
      "Training Loss after epoch 298 is 0.10072617574284355 and Accuracy is 98.3739837398374\n",
      "Validation Loss after epoch 298 is 0.1114143654704094 and Accuracy is 95.67567567567568\n"
     ]
    },
    {
     "name": "stderr",
     "output_type": "stream",
     "text": [
      "\r",
      "Percentage training completed: 100%|█████████▉| 299/300 [20:18<00:04,  4.03s/it]"
     ]
    },
    {
     "name": "stdout",
     "output_type": "stream",
     "text": [
      "Training Loss after epoch 299 is 0.10064345823290329 and Accuracy is 98.3739837398374\n",
      "Validation Loss after epoch 299 is 0.1113743856549263 and Accuracy is 95.67567567567568\n"
     ]
    },
    {
     "name": "stderr",
     "output_type": "stream",
     "text": [
      "Percentage training completed: 100%|██████████| 300/300 [20:22<00:00,  4.08s/it]"
     ]
    },
    {
     "name": "stdout",
     "output_type": "stream",
     "text": [
      "Training Loss after epoch 300 is 0.10056623754401883 and Accuracy is 98.3739837398374\n",
      "Validation Loss after epoch 300 is 0.111334890127182 and Accuracy is 95.67567567567568\n",
      "              precision    recall  f1-score   support\n",
      "\n",
      "           0       0.98      0.99      0.98       371\n",
      "           1       0.99      0.98      0.98       367\n",
      "\n",
      "    accuracy                           0.98       738\n",
      "   macro avg       0.98      0.98      0.98       738\n",
      "weighted avg       0.98      0.98      0.98       738\n",
      "\n",
      "              precision    recall  f1-score   support\n",
      "\n",
      "           0       0.97      0.93      0.95        83\n",
      "           1       0.94      0.98      0.96       102\n",
      "\n",
      "    accuracy                           0.96       185\n",
      "   macro avg       0.96      0.95      0.96       185\n",
      "weighted avg       0.96      0.96      0.96       185\n",
      "\n",
      "Validation Loss after epoch 300 is 0.111334890127182 and Accuracy is 95.67567567567568\n"
     ]
    },
    {
     "name": "stderr",
     "output_type": "stream",
     "text": [
      "\n"
     ]
    },
    {
     "data": {
      "image/png": "[encoded data removed]",
      "text/plain": [
       "<Figure size 432x288 with 2 Axes>"
      ]
     },
     "metadata": {
      "needs_background": "light"
     },
     "output_type": "display_data"
    }
   ],
   "source": [
    "m,acc, lo, val_ac, val_lo = run_XBNET(X_train,X_test,y_train,y_test,model,criterion,optimizer,32,300)\n",
    "# print(predict(m,x_data.to_numpy()[0,:]))"
   ]
  },
  {
   "cell_type": "code",
   "execution_count": 38,
   "metadata": {},
   "outputs": [
    {
     "name": "stdout",
     "output_type": "stream",
     "text": [
      "              precision    recall  f1-score   support\n",
      "\n",
      "           0       0.97      0.93      0.95        83\n",
      "           1       0.94      0.98      0.96       102\n",
      "\n",
      "    accuracy                           0.96       185\n",
      "   macro avg       0.96      0.95      0.96       185\n",
      "weighted avg       0.96      0.96      0.96       185\n",
      "\n",
      "Accuracy: 0.9567567567567568\n",
      "F1 Score: 0.9560778727445394\n",
      "Precision: 0.959039885359446\n",
      "Recall: 0.9540515001181196\n",
      "ROC-AUC: 0.9540515001181196\n",
      "\n",
      "\n",
      "F1 Score: 0.9567567567567568\n",
      "Precision: 0.9567567567567568\n",
      "Recall: 0.9567567567567568\n",
      "ROC-AUC: 0.9540515001181196\n"
     ]
    }
   ],
   "source": [
    "from sklearn.metrics import accuracy_score, f1_score, precision_score, recall_score, classification_report, confusion_matrix\n",
    "from sklearn.metrics import roc_auc_score\n",
    "\n",
    "y_preds = predict(m,X_test)\n",
    "print(classification_report(y_test, y_preds))\n",
    "print('Accuracy: ' + str(accuracy_score(y_test, y_preds)))\n",
    "print('F1 Score: ' + str(f1_score(y_test, y_preds, average=\"macro\")))\n",
    "print('Precision: ' + str(precision_score(y_test, y_preds, average=\"macro\")))\n",
    "print('Recall: ' + str(recall_score(y_test, y_preds, average=\"macro\")))\n",
    "print('ROC-AUC: ' + str(roc_auc_score(y_test, y_preds, average=\"macro\")))\n",
    "print('\\n')\n",
    "print('F1 Score: ' + str(f1_score(y_test, y_preds, average=\"micro\")))\n",
    "print('Precision: ' + str(precision_score(y_test, y_preds, average=\"micro\")))\n",
    "print('Recall: ' + str(recall_score(y_test, y_preds, average=\"micro\")))\n",
    "print('ROC-AUC: ' + str(roc_auc_score(y_test, y_preds, average=\"micro\")))\n"
   ]
  },
  {
   "cell_type": "code",
   "execution_count": 14,
   "metadata": {},
   "outputs": [
    {
     "data": {
      "image/png": "[encoded data removed]",
      "text/plain": [
       "<Figure size 1440x360 with 2 Axes>"
      ]
     },
     "metadata": {
      "needs_background": "light"
     },
     "output_type": "display_data"
    }
   ],
   "source": [
    "import matplotlib.pyplot as plt\n",
    "plt.figure(figsize=(20,5))\n",
    "plt.subplot(1,2,1)\n",
    "plt.plot(acc,label='training accuracy')\n",
    "plt.plot(val_ac,label = 'validation accuracy')\n",
    "plt.xlabel('epochs')\n",
    "plt.ylabel('accuracy')\n",
    "plt.legend()\n",
    "plt.grid()\n",
    "plt.subplot(1,2,2)\n",
    "plt.plot(lo,label='training loss')\n",
    "plt.plot(val_lo,label = 'validation loss')\n",
    "plt.xlabel('epochs')\n",
    "plt.ylabel('loss')\n",
    "plt.legend() \n",
    "plt.grid()"
   ]
  }
 ],
 "metadata": {
  "kernelspec": {
   "display_name": "Python 3",
   "language": "python",
   "name": "python3"
  },
  "language_info": {
   "codemirror_mode": {
    "name": "ipython",
    "version": 3
   },
   "file_extension": ".py",
   "mimetype": "text/x-python",
   "name": "python",
   "nbconvert_exporter": "python",
   "pygments_lexer": "ipython3",
   "version": "3.7.8"
  }
 },
 "nbformat": 4,
 "nbformat_minor": 4
}
